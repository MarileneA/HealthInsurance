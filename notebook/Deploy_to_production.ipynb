{
 "cells": [
  {
   "cell_type": "markdown",
   "id": "4f369562",
   "metadata": {},
   "source": [
    "## Problema de Negócio\n",
    "\n",
    "O conjunto de dados está disponível na plataforma do Kaggle, através desse link: https://www.kaggle.com/anmolkumar/health-insurance-cross-sell-prediction \n",
    "\n",
    "Cada linha representa um cliente e cada coluna contém alguns atributos que descrevem esse cliente, além da sua resposta à pesquisa, na qual ela mencionou interesse ou não ao novo produto de seguros. \n",
    "\n",
    "O conjunto de dados inclui as seguintes informações:\n",
    "\n",
    "Id: identificador único do cliente.\n",
    "\n",
    "Gender: gênero do cliente.\n",
    "\n",
    "Age: idade do cliente.\n",
    "\n",
    "Driving License: 0, o cliente não tem permissão para dirigir e 1, o cliente tem para dirigir ( CNH – Carteira Nacional de Habilitação )\n",
    "\n",
    "Region Code: código da região do cliente.\n",
    "\n",
    "Previously Insured: 0, o cliente não tem seguro de automóvel e 1, o cliente já tem seguro de automóvel.\n",
    "\n",
    "Vehicle Age: idade do veículo.\n",
    "\n",
    "Vehicle Damage: 0, cliente nunca teve seu veículo danificado no passado e 1, cliente já teve seu veículo danificado no passado.\n",
    "\n",
    "Anual Premium: quantidade que o cliente pagou à empresa pelo seguro de saúde anual.\n",
    "\n",
    "Policy sales channel: código anônimo para o canal de contato com o cliente.\n",
    "\n",
    "Vintage: número de dias que o cliente se associou à empresa através da compra do seguro de saúde.\n",
    "\n",
    "Response: 0, o cliente não tem interesse e 1, o cliente tem interesse."
   ]
  },
  {
   "cell_type": "markdown",
   "id": "399e32a1",
   "metadata": {},
   "source": [
    "# 0.0 Imports "
   ]
  },
  {
   "cell_type": "code",
   "execution_count": 1,
   "id": "7e30b810",
   "metadata": {
    "ExecuteTime": {
     "end_time": "2022-10-25T12:34:55.567298Z",
     "start_time": "2022-10-25T12:34:36.107681Z"
    }
   },
   "outputs": [],
   "source": [
    "import os\n",
    "import inflection\n",
    "import pickle\n",
    "import pandas         as pd\n",
    "import numpy          as np\n",
    "import seaborn        as sns\n",
    "\n",
    "import scikitplot        as skplt\n",
    "import matplotlib.pyplot as plt\n",
    "import plotly.offline as py\n",
    "import plotly.graph_objs as go\n",
    "import plotly.figure_factory as ff\n",
    "from matplotlib              import gridspec\n",
    "\n",
    "from xgboost                 import XGBClassifier\n",
    "from lightgbm                import LGBMClassifier\n",
    "from sklearn                 import preprocessing   as pp\n",
    "from sklearn                 import model_selection as ms\n",
    "from sklearn                 import ensemble        as en\n",
    "from sklearn                 import neighbors       as nh\n",
    "from sklearn                 import linear_model    as lm\n",
    "from sklearn.ensemble        import RandomForestClassifier\n",
    "from sklearn.model_selection import train_test_split\n"
   ]
  },
  {
   "cell_type": "markdown",
   "id": "c452e787",
   "metadata": {},
   "source": [
    "## 0.01 Helper Function"
   ]
  },
  {
   "cell_type": "code",
   "execution_count": 2,
   "id": "4cbf4c43",
   "metadata": {
    "ExecuteTime": {
     "end_time": "2022-10-25T12:34:55.614000Z",
     "start_time": "2022-10-25T12:34:55.571109Z"
    }
   },
   "outputs": [],
   "source": [
    "#def jupyter_settings():\n",
    "#    %matplotlib inline\n",
    "#    %pylab inline\n",
    "#    \n",
    "#    plt.style.use( 'bmh' )\n",
    "#    plt.rcParams['figure.figsize'] = [25, 12]\n",
    "#    plt.rcParams['font.size'] = 24\n",
    "#    \n",
    "#    display( HTML( '<style>.container { width:100% !important; }</style>') )\n",
    "#    pd.options.display.max_columns = None\n",
    "#    pd.options.display.max_rows = None\n",
    "#    pd.set_option( 'display.expand_frame_repr', False )\n",
    "#    \n",
    "#    sns.set()\n",
    "def graphic_percentage(ax,total):\n",
    "    for p in ax.patches:\n",
    "        height = p.get_height()\n",
    "        ax.text(p.get_x()+p.get_width()/2.,\n",
    "                height,\n",
    "                '{:1.2f}'.format(height/total*100),\n",
    "                ha=\"center\") \n",
    "        \n",
    "def cat_count_plotting( dataframe, column, ax, x_label_rotation = False ):\n",
    "    '''Plot countplot for the given column of dataframe'''\n",
    "    \n",
    "    # plot countplot\n",
    "    sns.countplot(x = column, data = dataframe, ax = ax)\n",
    "    \n",
    "    # set title to column name\n",
    "    ax.set_title( column.replace('_', ' ').upper() )\n",
    "    \n",
    "    # rotate x label if necessary\n",
    "    if x_label_rotation == True:\n",
    "        plt.xticks(rotation=90);\n",
    "\n",
    "\n",
    "    return None       \n",
    "\n",
    "\n",
    "def numerical_plot( dataframe, column, hist_axs, box_axs,\n",
    "                  hist_label_rot = 0, box_label_rot = 0):\n",
    "    '''Plot histogram on the hist_axs and boxplot on the box_axs\n",
    "    \n",
    "    Args:\n",
    "        dataframe: datataframe with numerical features\n",
    "        column: numerical feature to be plotted\n",
    "        hist_axs: ax for histogram plot\n",
    "        box_axs: ax for box plot\n",
    "        hist_label_rot: angle of rotation for histogram label\n",
    "        box_label_rot angle of rotation for boxplot label\n",
    "    \n",
    "    Return:\n",
    "        None\n",
    "    '''\n",
    "       \n",
    "    # set title\n",
    "    hist_axs.set_title( column.upper() )\n",
    "    # plot histogram\n",
    "    sns.histplot( x = column, data = dataframe, ax = hist_axs, kde = True )\n",
    "    #plot boxplot\n",
    "    sns.boxplot(  x = column, data = dataframe, ax = box_axs )\n",
    "    \n",
    "    # rotate histogram x label if requested\n",
    "    if hist_label_rot > 0 :\n",
    "        hist_axs.tick_params( axis = 'x', rotation = hist_label_rot )\n",
    "    # rotate boxplot x label if requested\n",
    "    if box_label_rot:\n",
    "        box_axs.tick_params( axis = 'x', rotation = box_label_rot )\n",
    "        \n",
    "    \n",
    "    return None\n",
    "\n",
    "def propensity_score_ordering( x_validation, y_validation, yhat):\n",
    "    '''Order the dataframe according to propensity score\n",
    "    \n",
    "    Args:\n",
    "        x_validation: x_validation dataframe\n",
    "        y_validation: y_validation dataframe\n",
    "        y_hat: predictions made with predict_proba method for x_validation\n",
    "    \n",
    "    Return:  \n",
    "        df_propensity_ordered: dataframe with x_validation columns, \n",
    "                               response column (y_validation_column) and \n",
    "                               score column (propensity of being interested).\n",
    "                               Dataframe is ordered according to propensity score in\n",
    "                               descending order'''\n",
    "    \n",
    "    # make a copy x_validation and y_validation\n",
    "    df_propensity_ordered = x_validation.copy()\n",
    "    df_propensity_ordered['response'] = y_validation.copy()\n",
    "\n",
    "    # create a column with probability of being 1 (interested)\n",
    "    df_propensity_ordered['score'] = yhat[:, 1].tolist()\n",
    "\n",
    "    # sorte dataframe according to propensity score\n",
    "    df_propensity_ordered = df_propensity_ordered.sort_values( 'score', ascending=False )\n",
    "    \n",
    "    \n",
    "    return df_propensity_ordered\n",
    "\n",
    "\n",
    "def precision_at_k( data, k = 1000 ):\n",
    "    '''Calculate precision at k-th row for a ordered dataframe according to propensity score.\n",
    "    \n",
    "    Args:\n",
    "        data: dataframe ordered according to propensity score. \n",
    "              Dataframe must have a 'response' column with y_validation data.\n",
    "        k: number of rows untill which you want to calculate precision.\n",
    "    \n",
    "    Return:\n",
    "        k_precision: precision untill k-th row.\n",
    "\n",
    "    \n",
    "    NOTE:  \n",
    "        This function was built to use the returned dataframe from\n",
    "            propensity_score_ordering function.\n",
    "                \n",
    "        Precision at k = number of right prediction (untill k-th row) over \n",
    "                         number of predictions made (untill k-th row).'''\n",
    "       \n",
    "    # reset index of dataframe - index will start from zero\n",
    "    data = data.reset_index( drop=True )\n",
    "\n",
    "    # create ranking order based on index\n",
    "    data['ranking'] = data.index + 1 \n",
    "\n",
    "    # number of cumulative sum of correct responses (response = 1) over k rows\n",
    "    data['precision_at_k'] = data['response'].cumsum() / data['ranking']\n",
    "\n",
    "    # precision at k is on k-th row, precision_at_k column\n",
    "    k_precision = data.loc[k, 'precision_at_k']\n",
    "    \n",
    "    \n",
    "    return k_precision\n",
    "\n",
    "\n",
    "def recall_at_k( data, k = 1000 ):\n",
    "    '''Calculate recall at k for a ordered dataframe according to propensity score.\n",
    "    \n",
    "    Args:\n",
    "        data: dataframe ordered according to propensity score. \n",
    "              Dataframe must have a 'response' column with y_validation data.\n",
    "        k: number of rows untill which you want to calculate recall.\n",
    "    \n",
    "    Return:\n",
    "        k_recall: recall untill k-th row.\n",
    "\n",
    "    \n",
    "    NOTE:  \n",
    "        This function was built to use the returned dataframe from\n",
    "            propensity_score_ordering function.\n",
    "                \n",
    "        Recall at k = number of right prediction (untill k-th row) over \n",
    "                      total number of responses equal to true in the entire dataset.'''\n",
    "    \n",
    "    # reset index of dataframe - index will start from zero\n",
    "    data = data.reset_index( drop=True )\n",
    "\n",
    "    # create ranking order based on index\n",
    "    data['ranking'] = data.index + 1 \n",
    "\n",
    "    # number of cumulative sum of correct response (response = 1) over total number of rows\n",
    "    data['recall_at_k'] = data['response'].cumsum() / data['response'].sum()\n",
    "\n",
    "    \n",
    "    # recall at k is on k-th row, recall_at_k column\n",
    "    k_recall = data.loc[k, 'recall_at_k']\n",
    "    \n",
    "    \n",
    "    return k_recall\n"
   ]
  },
  {
   "cell_type": "markdown",
   "id": "6bdb0a20",
   "metadata": {
    "ExecuteTime": {
     "end_time": "2022-07-26T11:31:29.656212Z",
     "start_time": "2022-07-26T11:31:29.641221Z"
    }
   },
   "source": [
    "## 0.02 Load Data"
   ]
  },
  {
   "cell_type": "code",
   "execution_count": 3,
   "id": "1aa4c15e",
   "metadata": {
    "ExecuteTime": {
     "end_time": "2022-10-25T12:34:56.641290Z",
     "start_time": "2022-10-25T12:34:55.616986Z"
    }
   },
   "outputs": [],
   "source": [
    "df_raw = pd.read_csv('data/train.csv')"
   ]
  },
  {
   "cell_type": "markdown",
   "id": "af727e87",
   "metadata": {
    "heading_collapsed": true
   },
   "source": [
    "# 1.0 Data description"
   ]
  },
  {
   "cell_type": "code",
   "execution_count": 4,
   "id": "eebfc7aa",
   "metadata": {
    "ExecuteTime": {
     "end_time": "2022-10-25T12:34:56.671242Z",
     "start_time": "2022-10-25T12:34:56.645280Z"
    },
    "hidden": true
   },
   "outputs": [],
   "source": [
    "df1 =df_raw.copy()"
   ]
  },
  {
   "cell_type": "code",
   "execution_count": 5,
   "id": "1a53c767",
   "metadata": {
    "ExecuteTime": {
     "end_time": "2022-10-25T12:34:56.798902Z",
     "start_time": "2022-10-25T12:34:56.676197Z"
    },
    "hidden": true
   },
   "outputs": [],
   "source": [
    "cols_old = ['id', 'Gender', 'Age', 'Driving_License', 'Region_Code',\n",
    "       'Previously_Insured', 'Vehicle_Age', 'Vehicle_Damage', 'Annual_Premium',\n",
    "       'Policy_Sales_Channel', 'Vintage', 'Response']\n",
    "\n",
    "snakecase = lambda x: inflection.underscore(x)\n",
    "\n",
    "cols_new = list( map( snakecase, cols_old) )\n",
    "\n",
    "#Rename\n",
    "df1.columns = cols_new"
   ]
  },
  {
   "cell_type": "markdown",
   "id": "e15e3ff7",
   "metadata": {
    "hidden": true
   },
   "source": [
    "## 1.1 Data dimensions"
   ]
  },
  {
   "cell_type": "code",
   "execution_count": 6,
   "id": "dbd291a1",
   "metadata": {
    "ExecuteTime": {
     "end_time": "2022-10-25T12:34:57.004316Z",
     "start_time": "2022-10-25T12:34:56.800864Z"
    },
    "hidden": true
   },
   "outputs": [
    {
     "name": "stdout",
     "output_type": "stream",
     "text": [
      "Number of rows: 381109\n",
      "Number of columns: 12\n"
     ]
    }
   ],
   "source": [
    "print(f'Number of rows: {df1.shape[0]}')\n",
    "print(f'Number of columns: {df1.shape[1]}')"
   ]
  },
  {
   "cell_type": "markdown",
   "id": "d569d20f",
   "metadata": {
    "hidden": true
   },
   "source": [
    "## 1.2 Data Types"
   ]
  },
  {
   "cell_type": "code",
   "execution_count": 7,
   "id": "d8340da5",
   "metadata": {
    "ExecuteTime": {
     "end_time": "2022-10-25T12:34:57.190998Z",
     "start_time": "2022-10-25T12:34:57.007310Z"
    },
    "hidden": true
   },
   "outputs": [
    {
     "data": {
      "text/plain": [
       "id                        int64\n",
       "gender                   object\n",
       "age                       int64\n",
       "driving_license           int64\n",
       "region_code             float64\n",
       "previously_insured        int64\n",
       "vehicle_age              object\n",
       "vehicle_damage           object\n",
       "annual_premium          float64\n",
       "policy_sales_channel    float64\n",
       "vintage                   int64\n",
       "response                  int64\n",
       "dtype: object"
      ]
     },
     "execution_count": 7,
     "metadata": {},
     "output_type": "execute_result"
    }
   ],
   "source": [
    "df1.dtypes"
   ]
  },
  {
   "cell_type": "markdown",
   "id": "692628e8",
   "metadata": {
    "hidden": true
   },
   "source": [
    "## 1.3 Check  Data"
   ]
  },
  {
   "cell_type": "markdown",
   "id": "7553a02c",
   "metadata": {
    "hidden": true
   },
   "source": [
    "### 1.3.1 Check NA"
   ]
  },
  {
   "cell_type": "code",
   "execution_count": 8,
   "id": "a210da84",
   "metadata": {
    "ExecuteTime": {
     "end_time": "2022-10-25T12:34:57.534878Z",
     "start_time": "2022-10-25T12:34:57.193960Z"
    },
    "hidden": true
   },
   "outputs": [
    {
     "data": {
      "text/plain": [
       "id                      0\n",
       "gender                  0\n",
       "age                     0\n",
       "driving_license         0\n",
       "region_code             0\n",
       "previously_insured      0\n",
       "vehicle_age             0\n",
       "vehicle_damage          0\n",
       "annual_premium          0\n",
       "policy_sales_channel    0\n",
       "vintage                 0\n",
       "response                0\n",
       "dtype: int64"
      ]
     },
     "execution_count": 8,
     "metadata": {},
     "output_type": "execute_result"
    }
   ],
   "source": [
    "df1.isna().sum()"
   ]
  },
  {
   "cell_type": "markdown",
   "id": "ab80ecaa",
   "metadata": {
    "hidden": true
   },
   "source": [
    "**Não há valores nulos** neste do conjunto de dados."
   ]
  },
  {
   "cell_type": "markdown",
   "id": "8378f365",
   "metadata": {
    "hidden": true
   },
   "source": [
    "### 1.3.2 Check Balanced Data"
   ]
  },
  {
   "cell_type": "code",
   "execution_count": 9,
   "id": "2428556f",
   "metadata": {
    "ExecuteTime": {
     "end_time": "2022-10-25T12:34:57.549806Z",
     "start_time": "2022-10-25T12:34:57.537837Z"
    },
    "hidden": true
   },
   "outputs": [
    {
     "data": {
      "text/plain": [
       "0    0.877437\n",
       "1    0.122563\n",
       "Name: response, dtype: float64"
      ]
     },
     "execution_count": 9,
     "metadata": {},
     "output_type": "execute_result"
    }
   ],
   "source": [
    "df1['response'].value_counts(normalize=True)"
   ]
  },
  {
   "cell_type": "markdown",
   "id": "bb71a474",
   "metadata": {
    "hidden": true
   },
   "source": [
    "Este é um conjuto de dados **desbalanceado**"
   ]
  },
  {
   "cell_type": "markdown",
   "id": "f3b5cd3c",
   "metadata": {
    "hidden": true
   },
   "source": [
    "## 1.4 Data descriptive"
   ]
  },
  {
   "cell_type": "code",
   "execution_count": 10,
   "id": "ad4feaf4",
   "metadata": {
    "ExecuteTime": {
     "end_time": "2022-10-25T12:34:57.750816Z",
     "start_time": "2022-10-25T12:34:57.556787Z"
    },
    "hidden": true
   },
   "outputs": [],
   "source": [
    "num_attributes = df1.select_dtypes( include= ['int64', 'float64', 'int32'] )\n",
    "\n",
    "cat_attributes = df1.select_dtypes( exclude= ['int64', 'float64', 'int32', 'datetime64[ns]'] )"
   ]
  },
  {
   "cell_type": "markdown",
   "id": "baf4b918",
   "metadata": {
    "hidden": true
   },
   "source": [
    "### 1.4.1 Numerical Attributes"
   ]
  },
  {
   "cell_type": "code",
   "execution_count": 11,
   "id": "9a2f6bae",
   "metadata": {
    "ExecuteTime": {
     "end_time": "2022-10-25T12:34:58.637108Z",
     "start_time": "2022-10-25T12:34:57.753814Z"
    },
    "hidden": true
   },
   "outputs": [
    {
     "data": {
      "text/html": [
       "<div>\n",
       "<style scoped>\n",
       "    .dataframe tbody tr th:only-of-type {\n",
       "        vertical-align: middle;\n",
       "    }\n",
       "\n",
       "    .dataframe tbody tr th {\n",
       "        vertical-align: top;\n",
       "    }\n",
       "\n",
       "    .dataframe thead th {\n",
       "        text-align: right;\n",
       "    }\n",
       "</style>\n",
       "<table border=\"1\" class=\"dataframe\">\n",
       "  <thead>\n",
       "    <tr style=\"text-align: right;\">\n",
       "      <th></th>\n",
       "      <th>attributes</th>\n",
       "      <th>min</th>\n",
       "      <th>max</th>\n",
       "      <th>range</th>\n",
       "      <th>mean</th>\n",
       "      <th>median</th>\n",
       "      <th>std</th>\n",
       "      <th>skew</th>\n",
       "      <th>kurtosis</th>\n",
       "    </tr>\n",
       "  </thead>\n",
       "  <tbody>\n",
       "    <tr>\n",
       "      <th>0</th>\n",
       "      <td>id</td>\n",
       "      <td>1.0</td>\n",
       "      <td>381109.0</td>\n",
       "      <td>381108.0</td>\n",
       "      <td>190555.000000</td>\n",
       "      <td>190555.0</td>\n",
       "      <td>110016.691870</td>\n",
       "      <td>9.443274e-16</td>\n",
       "      <td>-1.200000</td>\n",
       "    </tr>\n",
       "    <tr>\n",
       "      <th>1</th>\n",
       "      <td>age</td>\n",
       "      <td>20.0</td>\n",
       "      <td>85.0</td>\n",
       "      <td>65.0</td>\n",
       "      <td>38.822584</td>\n",
       "      <td>36.0</td>\n",
       "      <td>15.511591</td>\n",
       "      <td>6.725390e-01</td>\n",
       "      <td>-0.565655</td>\n",
       "    </tr>\n",
       "    <tr>\n",
       "      <th>2</th>\n",
       "      <td>driving_license</td>\n",
       "      <td>0.0</td>\n",
       "      <td>1.0</td>\n",
       "      <td>1.0</td>\n",
       "      <td>0.997869</td>\n",
       "      <td>1.0</td>\n",
       "      <td>0.046109</td>\n",
       "      <td>-2.159518e+01</td>\n",
       "      <td>464.354302</td>\n",
       "    </tr>\n",
       "    <tr>\n",
       "      <th>3</th>\n",
       "      <td>region_code</td>\n",
       "      <td>0.0</td>\n",
       "      <td>52.0</td>\n",
       "      <td>52.0</td>\n",
       "      <td>26.388807</td>\n",
       "      <td>28.0</td>\n",
       "      <td>13.229871</td>\n",
       "      <td>-1.152664e-01</td>\n",
       "      <td>-0.867857</td>\n",
       "    </tr>\n",
       "    <tr>\n",
       "      <th>4</th>\n",
       "      <td>previously_insured</td>\n",
       "      <td>0.0</td>\n",
       "      <td>1.0</td>\n",
       "      <td>1.0</td>\n",
       "      <td>0.458210</td>\n",
       "      <td>0.0</td>\n",
       "      <td>0.498251</td>\n",
       "      <td>1.677471e-01</td>\n",
       "      <td>-1.971871</td>\n",
       "    </tr>\n",
       "    <tr>\n",
       "      <th>5</th>\n",
       "      <td>annual_premium</td>\n",
       "      <td>2630.0</td>\n",
       "      <td>540165.0</td>\n",
       "      <td>537535.0</td>\n",
       "      <td>30564.389581</td>\n",
       "      <td>31669.0</td>\n",
       "      <td>17213.132474</td>\n",
       "      <td>1.766087e+00</td>\n",
       "      <td>34.004569</td>\n",
       "    </tr>\n",
       "    <tr>\n",
       "      <th>6</th>\n",
       "      <td>policy_sales_channel</td>\n",
       "      <td>1.0</td>\n",
       "      <td>163.0</td>\n",
       "      <td>162.0</td>\n",
       "      <td>112.034295</td>\n",
       "      <td>133.0</td>\n",
       "      <td>54.203924</td>\n",
       "      <td>-9.000081e-01</td>\n",
       "      <td>-0.970810</td>\n",
       "    </tr>\n",
       "    <tr>\n",
       "      <th>7</th>\n",
       "      <td>vintage</td>\n",
       "      <td>10.0</td>\n",
       "      <td>299.0</td>\n",
       "      <td>289.0</td>\n",
       "      <td>154.347397</td>\n",
       "      <td>154.0</td>\n",
       "      <td>83.671194</td>\n",
       "      <td>3.029517e-03</td>\n",
       "      <td>-1.200688</td>\n",
       "    </tr>\n",
       "    <tr>\n",
       "      <th>8</th>\n",
       "      <td>response</td>\n",
       "      <td>0.0</td>\n",
       "      <td>1.0</td>\n",
       "      <td>1.0</td>\n",
       "      <td>0.122563</td>\n",
       "      <td>0.0</td>\n",
       "      <td>0.327935</td>\n",
       "      <td>2.301906e+00</td>\n",
       "      <td>3.298788</td>\n",
       "    </tr>\n",
       "  </tbody>\n",
       "</table>\n",
       "</div>"
      ],
      "text/plain": [
       "             attributes     min       max     range           mean    median  \\\n",
       "0                    id     1.0  381109.0  381108.0  190555.000000  190555.0   \n",
       "1                   age    20.0      85.0      65.0      38.822584      36.0   \n",
       "2       driving_license     0.0       1.0       1.0       0.997869       1.0   \n",
       "3           region_code     0.0      52.0      52.0      26.388807      28.0   \n",
       "4    previously_insured     0.0       1.0       1.0       0.458210       0.0   \n",
       "5        annual_premium  2630.0  540165.0  537535.0   30564.389581   31669.0   \n",
       "6  policy_sales_channel     1.0     163.0     162.0     112.034295     133.0   \n",
       "7               vintage    10.0     299.0     289.0     154.347397     154.0   \n",
       "8              response     0.0       1.0       1.0       0.122563       0.0   \n",
       "\n",
       "             std          skew    kurtosis  \n",
       "0  110016.691870  9.443274e-16   -1.200000  \n",
       "1      15.511591  6.725390e-01   -0.565655  \n",
       "2       0.046109 -2.159518e+01  464.354302  \n",
       "3      13.229871 -1.152664e-01   -0.867857  \n",
       "4       0.498251  1.677471e-01   -1.971871  \n",
       "5   17213.132474  1.766087e+00   34.004569  \n",
       "6      54.203924 -9.000081e-01   -0.970810  \n",
       "7      83.671194  3.029517e-03   -1.200688  \n",
       "8       0.327935  2.301906e+00    3.298788  "
      ]
     },
     "execution_count": 11,
     "metadata": {},
     "output_type": "execute_result"
    }
   ],
   "source": [
    "#Central Tendence - Mean, Median\n",
    "\n",
    "ct1 = pd.DataFrame( num_attributes.apply( np.mean) ).T\n",
    "ct2 = pd.DataFrame( num_attributes.apply( np.median) ).T\n",
    "\n",
    "# Dispersion - std, min, max, range, skew, kurtosis\n",
    "d1 = pd.DataFrame( num_attributes.apply( np.std) ) .T\n",
    "d2 = pd.DataFrame( num_attributes.apply( min ) ).T\n",
    "d3 = pd.DataFrame( num_attributes.apply( max ) ) .T\n",
    "d4 = pd.DataFrame( num_attributes.apply( lambda x: x.max() - x.min() ) ) .T\n",
    "d5 = pd.DataFrame( num_attributes.apply( lambda x: x.skew() ) ).T\n",
    "d6 = pd.DataFrame( num_attributes.apply( lambda x: x.kurtosis() ) ).T\n",
    "\n",
    "# concatenate\n",
    "\n",
    "m = pd.concat( [d2, d3, d4, ct1, ct2,d1, d5, d6 ] ).T.reset_index()\n",
    "\n",
    "#Rename Columns\n",
    "m.columns = ['attributes', 'min', 'max', 'range', 'mean', 'median', 'std', 'skew', 'kurtosis']\n",
    "m"
   ]
  },
  {
   "cell_type": "markdown",
   "id": "6bd96bc6",
   "metadata": {
    "hidden": true
   },
   "source": [
    "O coeficente de Assimetria (Skew), indica como os dados estão distribuídos, e para interpretar seu resultado podemos olhar a tabela a seguir:"
   ]
  },
  {
   "cell_type": "markdown",
   "id": "f70c2e1e",
   "metadata": {
    "hidden": true
   },
   "source": [
    "O coeficiente de Curtose (Kurtosis), é uma medida que caracteriza o achatamento da curva da função de distribuição, e para interpretar seu resultado, podemos olhar a tabela a seguir:"
   ]
  },
  {
   "cell_type": "markdown",
   "id": "47484380",
   "metadata": {
    "hidden": true
   },
   "source": [
    "Nessa primeira análise estatística os dados estão aparentemente ok."
   ]
  },
  {
   "cell_type": "code",
   "execution_count": 12,
   "id": "5943cf1b",
   "metadata": {
    "ExecuteTime": {
     "end_time": "2022-10-25T12:35:00.549143Z",
     "start_time": "2022-10-25T12:34:58.640101Z"
    },
    "hidden": true
   },
   "outputs": [
    {
     "data": {
      "text/plain": [
       "<Figure size 1440x720 with 0 Axes>"
      ]
     },
     "metadata": {},
     "output_type": "display_data"
    },
    {
     "data": {
      "image/png": "[encoded data removed]",
      "text/plain": [
       "<Figure size 936x720 with 9 Axes>"
      ]
     },
     "metadata": {
      "needs_background": "light"
     },
     "output_type": "display_data"
    }
   ],
   "source": [
    "#num_attributes.drop(columns = ['id'], inplace = True)\n",
    "plt.figure(figsize=(20,10))\n",
    "num_attributes.hist(bins = 30, figsize=(13,10), color = 'tomato');"
   ]
  },
  {
   "cell_type": "markdown",
   "id": "345cbda6",
   "metadata": {
    "hidden": true
   },
   "source": [
    "### 1.4.2 Categorical Attributes"
   ]
  },
  {
   "cell_type": "code",
   "execution_count": 13,
   "id": "4326ba5e",
   "metadata": {
    "ExecuteTime": {
     "end_time": "2022-10-25T12:35:00.580761Z",
     "start_time": "2022-10-25T12:35:00.552138Z"
    },
    "hidden": true,
    "scrolled": true
   },
   "outputs": [
    {
     "data": {
      "text/html": [
       "<div>\n",
       "<style scoped>\n",
       "    .dataframe tbody tr th:only-of-type {\n",
       "        vertical-align: middle;\n",
       "    }\n",
       "\n",
       "    .dataframe tbody tr th {\n",
       "        vertical-align: top;\n",
       "    }\n",
       "\n",
       "    .dataframe thead th {\n",
       "        text-align: right;\n",
       "    }\n",
       "</style>\n",
       "<table border=\"1\" class=\"dataframe\">\n",
       "  <thead>\n",
       "    <tr style=\"text-align: right;\">\n",
       "      <th></th>\n",
       "      <th>gender</th>\n",
       "      <th>vehicle_age</th>\n",
       "      <th>vehicle_damage</th>\n",
       "    </tr>\n",
       "  </thead>\n",
       "  <tbody>\n",
       "    <tr>\n",
       "      <th>0</th>\n",
       "      <td>Male</td>\n",
       "      <td>&gt; 2 Years</td>\n",
       "      <td>Yes</td>\n",
       "    </tr>\n",
       "    <tr>\n",
       "      <th>1</th>\n",
       "      <td>Male</td>\n",
       "      <td>1-2 Year</td>\n",
       "      <td>No</td>\n",
       "    </tr>\n",
       "    <tr>\n",
       "      <th>2</th>\n",
       "      <td>Male</td>\n",
       "      <td>&gt; 2 Years</td>\n",
       "      <td>Yes</td>\n",
       "    </tr>\n",
       "    <tr>\n",
       "      <th>3</th>\n",
       "      <td>Male</td>\n",
       "      <td>&lt; 1 Year</td>\n",
       "      <td>No</td>\n",
       "    </tr>\n",
       "    <tr>\n",
       "      <th>4</th>\n",
       "      <td>Female</td>\n",
       "      <td>&lt; 1 Year</td>\n",
       "      <td>No</td>\n",
       "    </tr>\n",
       "  </tbody>\n",
       "</table>\n",
       "</div>"
      ],
      "text/plain": [
       "   gender vehicle_age vehicle_damage\n",
       "0    Male   > 2 Years            Yes\n",
       "1    Male    1-2 Year             No\n",
       "2    Male   > 2 Years            Yes\n",
       "3    Male    < 1 Year             No\n",
       "4  Female    < 1 Year             No"
      ]
     },
     "execution_count": 13,
     "metadata": {},
     "output_type": "execute_result"
    }
   ],
   "source": [
    "cat_attributes.head()"
   ]
  },
  {
   "cell_type": "markdown",
   "id": "cb59df17",
   "metadata": {
    "heading_collapsed": true
   },
   "source": [
    "# 2.0 Feature Engeneering"
   ]
  },
  {
   "cell_type": "code",
   "execution_count": 14,
   "id": "6510f4e8",
   "metadata": {
    "ExecuteTime": {
     "end_time": "2022-10-25T12:35:00.702697Z",
     "start_time": "2022-10-25T12:35:00.582683Z"
    },
    "hidden": true
   },
   "outputs": [],
   "source": [
    "df2 = df1.copy()"
   ]
  },
  {
   "cell_type": "code",
   "execution_count": 15,
   "id": "b427c2ed",
   "metadata": {
    "ExecuteTime": {
     "end_time": "2022-10-25T12:35:01.066003Z",
     "start_time": "2022-10-25T12:35:00.705758Z"
    },
    "hidden": true
   },
   "outputs": [],
   "source": [
    "# vehicle age\n",
    "df2['vehicle_age'] =  df2['vehicle_age'].apply( lambda x: 'over_2_years' if x == '> 2 Years' else 'between_1_2_year' \n",
    "                                                 if x == '1-2 Year' else 'below_1_year' ) \n",
    "\n",
    "# vehicle_damage\n",
    "df2['vehicle_damage'] = df2['vehicle_damage'].apply(lambda x:1 if x == 'Yes' else 0 )"
   ]
  },
  {
   "cell_type": "code",
   "execution_count": 16,
   "id": "ccf508d6",
   "metadata": {
    "ExecuteTime": {
     "end_time": "2022-10-25T12:35:01.112027Z",
     "start_time": "2022-10-25T12:35:01.068918Z"
    },
    "hidden": true
   },
   "outputs": [
    {
     "data": {
      "text/plain": [
       "array(['over_2_years', 'between_1_2_year', 'below_1_year'], dtype=object)"
      ]
     },
     "execution_count": 16,
     "metadata": {},
     "output_type": "execute_result"
    }
   ],
   "source": [
    "df2['vehicle_age'].unique()"
   ]
  },
  {
   "cell_type": "markdown",
   "id": "c1019a29",
   "metadata": {
    "heading_collapsed": true
   },
   "source": [
    "# 3.0  Data Filtering"
   ]
  },
  {
   "cell_type": "code",
   "execution_count": 17,
   "id": "8e7b3a64",
   "metadata": {
    "ExecuteTime": {
     "end_time": "2022-10-25T12:35:01.331333Z",
     "start_time": "2022-10-25T12:35:01.113947Z"
    },
    "hidden": true
   },
   "outputs": [],
   "source": [
    "df3= df2.copy()"
   ]
  },
  {
   "cell_type": "markdown",
   "id": "16bc39fb",
   "metadata": {
    "hidden": true
   },
   "source": [
    "Pela análise das Features e as restrições de negócio, nesse primeiro ciclo não será necessário filtrar nenhuma variável."
   ]
  },
  {
   "cell_type": "markdown",
   "id": "daa8a69c",
   "metadata": {
    "heading_collapsed": true
   },
   "source": [
    "# 4.0 EDA"
   ]
  },
  {
   "cell_type": "code",
   "execution_count": 18,
   "id": "d62dbfc3",
   "metadata": {
    "ExecuteTime": {
     "end_time": "2022-10-25T12:35:01.502611Z",
     "start_time": "2022-10-25T12:35:01.334175Z"
    },
    "hidden": true
   },
   "outputs": [],
   "source": [
    "df4 = df3.copy()"
   ]
  },
  {
   "cell_type": "markdown",
   "id": "e5936cc5",
   "metadata": {
    "ExecuteTime": {
     "end_time": "2022-07-26T12:12:46.343605Z",
     "start_time": "2022-07-26T12:12:46.333633Z"
    },
    "hidden": true
   },
   "source": [
    "## 4.1 Univariate Analysis"
   ]
  },
  {
   "cell_type": "code",
   "execution_count": 19,
   "id": "d56f49d3",
   "metadata": {
    "ExecuteTime": {
     "end_time": "2022-10-25T12:35:01.802582Z",
     "start_time": "2022-10-25T12:35:01.505463Z"
    },
    "hidden": true
   },
   "outputs": [
    {
     "name": "stderr",
     "output_type": "stream",
     "text": [
      "C:\\Users\\PC\\anaconda3\\envs\\pa004\\lib\\site-packages\\seaborn\\_decorators.py:36: FutureWarning:\n",
      "\n",
      "Pass the following variable as a keyword arg: x. From version 0.12, the only valid positional argument will be `data`, and passing other arguments without an explicit keyword will result in an error or misinterpretation.\n",
      "\n"
     ]
    },
    {
     "data": {
      "image/png": "[encoded data removed]",
      "text/plain": [
       "<Figure size 864x720 with 1 Axes>"
      ]
     },
     "metadata": {
      "needs_background": "light"
     },
     "output_type": "display_data"
    }
   ],
   "source": [
    "#Response Variable\n",
    "plt.figure(figsize=(12,10))\n",
    "ax=sns.countplot(df4['response'], palette = 'YlGn')\n",
    "total=len(df4['response'])\n",
    "graphic_percentage(ax,total)"
   ]
  },
  {
   "cell_type": "code",
   "execution_count": 20,
   "id": "2b601c89",
   "metadata": {
    "ExecuteTime": {
     "end_time": "2022-10-25T12:35:01.989147Z",
     "start_time": "2022-10-25T12:35:01.805292Z"
    },
    "hidden": true
   },
   "outputs": [
    {
     "data": {
      "text/plain": [
       "<AxesSubplot:xlabel='response', ylabel='age'>"
      ]
     },
     "execution_count": 20,
     "metadata": {},
     "output_type": "execute_result"
    },
    {
     "data": {
      "image/png": "[encoded data removed]",
      "text/plain": [
       "<Figure size 864x720 with 1 Axes>"
      ]
     },
     "metadata": {
      "needs_background": "light"
     },
     "output_type": "display_data"
    }
   ],
   "source": [
    "#Age\n",
    "plt.figure(figsize=(12,10))\n",
    "sns.boxplot( x='response', y='age', data=df4, palette='GnBu')"
   ]
  },
  {
   "cell_type": "markdown",
   "id": "a3776f52",
   "metadata": {
    "hidden": true
   },
   "source": [
    "Com esse gráfico é possível observar que no grupo de pessoas não interessadas a mediana da idade em torno de 35 anos\n",
    "\n",
    "Já no grupo dos interessados a mediana da idade está entre 45 e 50 anos"
   ]
  },
  {
   "cell_type": "code",
   "execution_count": 21,
   "id": "d60691c1",
   "metadata": {
    "ExecuteTime": {
     "end_time": "2022-10-25T12:35:14.361728Z",
     "start_time": "2022-10-25T12:35:01.992077Z"
    },
    "hidden": true
   },
   "outputs": [
    {
     "data": {
      "text/plain": [
       "Text(0.5, 1.0, 'interest in insurance by vehicle age')"
      ]
     },
     "execution_count": 21,
     "metadata": {},
     "output_type": "execute_result"
    },
    {
     "data": {
      "image/png": "[encoded data removed]",
      "text/plain": [
       "<Figure size 864x720 with 2 Axes>"
      ]
     },
     "metadata": {
      "needs_background": "light"
     },
     "output_type": "display_data"
    }
   ],
   "source": [
    "#Gender\n",
    "plt.figure(figsize=(12,10))\n",
    "plt.subplot( 1, 2, 1 )\n",
    "sns.barplot( x='gender', y='response', data=df4, palette= 'GnBu' )\n",
    "sns.despine(offset = 10, trim = True)\n",
    "plt.title('Interest in insurance by gender')\n",
    "\n",
    "plt.subplot( 1, 2, 2 )\n",
    "sns.barplot( x='vehicle_age', y='response', data=df4, palette='Greens' )\n",
    "sns.despine(offset = 10, trim = True)\n",
    "plt.title('interest in insurance by vehicle age')\n",
    "\n"
   ]
  },
  {
   "cell_type": "code",
   "execution_count": 22,
   "id": "9b6751bf",
   "metadata": {
    "ExecuteTime": {
     "end_time": "2022-10-25T12:35:14.391635Z",
     "start_time": "2022-10-25T12:35:14.364706Z"
    },
    "hidden": true
   },
   "outputs": [],
   "source": [
    "#Driving_license\n",
    "df4['driving_license'] = df4['driving_license']"
   ]
  },
  {
   "cell_type": "code",
   "execution_count": 23,
   "id": "57f65b33",
   "metadata": {
    "ExecuteTime": {
     "end_time": "2022-10-25T12:35:21.244239Z",
     "start_time": "2022-10-25T12:35:14.394627Z"
    },
    "hidden": true
   },
   "outputs": [
    {
     "data": {
      "image/png": "[encoded data removed]",
      "text/plain": [
       "<Figure size 864x720 with 1 Axes>"
      ]
     },
     "metadata": {
      "needs_background": "light"
     },
     "output_type": "display_data"
    }
   ],
   "source": [
    "# vehicle_damage x response\n",
    "plt.figure(figsize=(12,10))\n",
    "sns.barplot( x='vehicle_damage', y='response', data=df4, palette='GnBu' )\n",
    "sns.despine(offset = 10, trim = True)\n",
    "plt.title('vehicle damaged in the past');"
   ]
  },
  {
   "cell_type": "code",
   "execution_count": 24,
   "id": "d888b85f",
   "metadata": {
    "ExecuteTime": {
     "end_time": "2022-10-25T12:35:21.844664Z",
     "start_time": "2022-10-25T12:35:21.246234Z"
    },
    "cell_style": "center",
    "hidden": true
   },
   "outputs": [
    {
     "data": {
      "text/plain": [
       "<AxesSubplot:xlabel='age', ylabel='Count'>"
      ]
     },
     "execution_count": 24,
     "metadata": {},
     "output_type": "execute_result"
    },
    {
     "data": {
      "image/png": "[encoded data removed]",
      "text/plain": [
       "<Figure size 864x720 with 1 Axes>"
      ]
     },
     "metadata": {
      "needs_background": "light"
     },
     "output_type": "display_data"
    }
   ],
   "source": [
    "# Response  x Age\n",
    "aux00 = df4.loc[df4['response']==0, 'age']\n",
    "\n",
    "plt.figure(figsize=(12,10))\n",
    "sns.histplot(aux00)\n",
    "\n"
   ]
  },
  {
   "cell_type": "code",
   "execution_count": 25,
   "id": "415369bb",
   "metadata": {
    "ExecuteTime": {
     "end_time": "2022-10-25T12:35:22.162967Z",
     "start_time": "2022-10-25T12:35:21.846625Z"
    },
    "cell_style": "center",
    "hidden": true
   },
   "outputs": [
    {
     "data": {
      "text/plain": [
       "<AxesSubplot:xlabel='age', ylabel='Count'>"
      ]
     },
     "execution_count": 25,
     "metadata": {},
     "output_type": "execute_result"
    },
    {
     "data": {
      "image/png": "[encoded data removed]",
      "text/plain": [
       "<Figure size 864x720 with 1 Axes>"
      ]
     },
     "metadata": {
      "needs_background": "light"
     },
     "output_type": "display_data"
    }
   ],
   "source": [
    "aux01 = df4.loc[df4['response']==1, 'age']\n",
    "\n",
    "plt.figure(figsize=(12,10))\n",
    "sns.histplot(aux01)"
   ]
  },
  {
   "cell_type": "markdown",
   "id": "51577b3d",
   "metadata": {
    "ExecuteTime": {
     "end_time": "2022-07-26T12:32:10.870479Z",
     "start_time": "2022-07-26T12:32:10.824435Z"
    },
    "hidden": true
   },
   "source": [
    "Os gráficos confirmam a informação de que no gupo de pessoas não interessadas há uma concentração de entre 20 e 30 anos\n",
    "\n",
    "já no grupo de pessoas interessadas a concentração maior está entre40 e 50 anos\n",
    "\n",
    "É possivel perceber também que o número de pessoas no grupo de não interessadas é muito maior do que a de possas interessadas."
   ]
  },
  {
   "cell_type": "code",
   "execution_count": 26,
   "id": "155ef90d",
   "metadata": {
    "ExecuteTime": {
     "end_time": "2022-10-25T12:35:22.584835Z",
     "start_time": "2022-10-25T12:35:22.164958Z"
    },
    "cell_style": "center",
    "hidden": true
   },
   "outputs": [
    {
     "data": {
      "text/plain": [
       "<AxesSubplot:xlabel='response', ylabel='annual_premium'>"
      ]
     },
     "execution_count": 26,
     "metadata": {},
     "output_type": "execute_result"
    },
    {
     "data": {
      "image/png": "[encoded data removed]",
      "text/plain": [
       "<Figure size 1080x864 with 1 Axes>"
      ]
     },
     "metadata": {
      "needs_background": "light"
     },
     "output_type": "display_data"
    }
   ],
   "source": [
    "# Anual premium\n",
    "aux = df4[df4['annual_premium']<80000]\n",
    "plt.figure(figsize=(15,12))\n",
    "sns.boxplot(x='response', y='annual_premium',data=aux, palette='GnBu')\n"
   ]
  },
  {
   "cell_type": "code",
   "execution_count": 27,
   "id": "f8fd34e4",
   "metadata": {
    "ExecuteTime": {
     "end_time": "2022-10-25T12:35:22.894476Z",
     "start_time": "2022-10-25T12:35:22.587829Z"
    },
    "cell_style": "center",
    "hidden": true
   },
   "outputs": [
    {
     "data": {
      "text/plain": [
       "<AxesSubplot:xlabel='response', ylabel='annual_premium'>"
      ]
     },
     "execution_count": 27,
     "metadata": {},
     "output_type": "execute_result"
    },
    {
     "data": {
      "image/png": "[encoded data removed]",
      "text/plain": [
       "<Figure size 432x288 with 1 Axes>"
      ]
     },
     "metadata": {
      "needs_background": "light"
     },
     "output_type": "display_data"
    }
   ],
   "source": [
    "# Anual premium\n",
    "sns.boxplot(x='response', y='annual_premium',data=df4, palette='GnBu')"
   ]
  },
  {
   "cell_type": "markdown",
   "id": "d4011ceb",
   "metadata": {
    "cell_style": "center",
    "hidden": true
   },
   "source": [
    "É possível perceber que há muitos outliers, mas não podemos descartá-las, pois ela pode ajudar em conjunto com outras variáveis"
   ]
  },
  {
   "cell_type": "code",
   "execution_count": 28,
   "id": "70f231f5",
   "metadata": {
    "ExecuteTime": {
     "end_time": "2022-10-25T12:35:23.573408Z",
     "start_time": "2022-10-25T12:35:22.907448Z"
    },
    "cell_style": "split",
    "hidden": true
   },
   "outputs": [
    {
     "data": {
      "text/plain": [
       "<AxesSubplot:xlabel='annual_premium', ylabel='Count'>"
      ]
     },
     "execution_count": 28,
     "metadata": {},
     "output_type": "execute_result"
    },
    {
     "data": {
      "image/png": "[encoded data removed]",
      "text/plain": [
       "<Figure size 864x720 with 1 Axes>"
      ]
     },
     "metadata": {
      "needs_background": "light"
     },
     "output_type": "display_data"
    }
   ],
   "source": [
    "# Anual premium\n",
    "aux00 =aux.loc[aux['response']==0, 'annual_premium']\n",
    "\n",
    "plt.figure(figsize=(12,10))\n",
    "sns.histplot(aux00)\n"
   ]
  },
  {
   "cell_type": "code",
   "execution_count": 29,
   "id": "672bf99c",
   "metadata": {
    "ExecuteTime": {
     "end_time": "2022-10-25T12:35:24.256440Z",
     "start_time": "2022-10-25T12:35:23.575426Z"
    },
    "cell_style": "split",
    "hidden": true
   },
   "outputs": [
    {
     "data": {
      "text/plain": [
       "<AxesSubplot:xlabel='annual_premium', ylabel='Count'>"
      ]
     },
     "execution_count": 29,
     "metadata": {},
     "output_type": "execute_result"
    },
    {
     "data": {
      "image/png": "[encoded data removed]",
      "text/plain": [
       "<Figure size 864x720 with 1 Axes>"
      ]
     },
     "metadata": {
      "needs_background": "light"
     },
     "output_type": "display_data"
    }
   ],
   "source": [
    "aux = aux.loc[aux['response']==1, 'annual_premium']\n",
    "\n",
    "plt.figure(figsize=(12,10))\n",
    "sns.histplot(aux00)"
   ]
  },
  {
   "cell_type": "code",
   "execution_count": 30,
   "id": "0a03c918",
   "metadata": {
    "ExecuteTime": {
     "end_time": "2022-10-25T12:35:24.408966Z",
     "start_time": "2022-10-25T12:35:24.258224Z"
    },
    "hidden": true
   },
   "outputs": [
    {
     "data": {
      "text/html": [
       "<div>\n",
       "<style scoped>\n",
       "    .dataframe tbody tr th:only-of-type {\n",
       "        vertical-align: middle;\n",
       "    }\n",
       "\n",
       "    .dataframe tbody tr th {\n",
       "        vertical-align: top;\n",
       "    }\n",
       "\n",
       "    .dataframe thead th {\n",
       "        text-align: right;\n",
       "    }\n",
       "</style>\n",
       "<table border=\"1\" class=\"dataframe\">\n",
       "  <thead>\n",
       "    <tr style=\"text-align: right;\">\n",
       "      <th></th>\n",
       "      <th>response</th>\n",
       "      <th>driving_license</th>\n",
       "      <th>driving_license_percent</th>\n",
       "    </tr>\n",
       "  </thead>\n",
       "  <tbody>\n",
       "    <tr>\n",
       "      <th>0</th>\n",
       "      <td>0</td>\n",
       "      <td>333628</td>\n",
       "      <td>0.877283</td>\n",
       "    </tr>\n",
       "    <tr>\n",
       "      <th>1</th>\n",
       "      <td>1</td>\n",
       "      <td>46669</td>\n",
       "      <td>0.122717</td>\n",
       "    </tr>\n",
       "  </tbody>\n",
       "</table>\n",
       "</div>"
      ],
      "text/plain": [
       "   response  driving_license  driving_license_percent\n",
       "0         0           333628                 0.877283\n",
       "1         1            46669                 0.122717"
      ]
     },
     "execution_count": 30,
     "metadata": {},
     "output_type": "execute_result"
    },
    {
     "data": {
      "image/png": "[encoded data removed]",
      "text/plain": [
       "<Figure size 432x288 with 1 Axes>"
      ]
     },
     "metadata": {
      "needs_background": "light"
     },
     "output_type": "display_data"
    }
   ],
   "source": [
    "# Driving Licences\n",
    "aux = df4[['driving_license', 'response']].groupby('response').sum().reset_index()\n",
    "aux['driving_license_percent'] = aux['driving_license'] / aux['driving_license'].sum()\n",
    "sns.barplot(x='response', y= 'driving_license', data=aux)\n",
    "\n",
    "aux"
   ]
  },
  {
   "cell_type": "markdown",
   "id": "8a9f96f7",
   "metadata": {
    "hidden": true
   },
   "source": [
    "O grupo de pessoas que dirigem e não querem fazer o seguro é de 87%"
   ]
  },
  {
   "cell_type": "code",
   "execution_count": 31,
   "id": "786f0ba9",
   "metadata": {
    "ExecuteTime": {
     "end_time": "2022-10-25T12:35:24.680405Z",
     "start_time": "2022-10-25T12:35:24.410966Z"
    },
    "hidden": true
   },
   "outputs": [
    {
     "data": {
      "text/plain": [
       "<AxesSubplot:xlabel='region_code', ylabel='id'>"
      ]
     },
     "execution_count": 31,
     "metadata": {},
     "output_type": "execute_result"
    },
    {
     "data": {
      "image/png": "[encoded data removed]",
      "text/plain": [
       "<Figure size 1080x864 with 1 Axes>"
      ]
     },
     "metadata": {
      "needs_background": "light"
     },
     "output_type": "display_data"
    }
   ],
   "source": [
    "#Region code\n",
    "#A ideia aqui é verificar se o region code pode ser agrupado de alguma maneira\n",
    "aux0 = df4[['id','region_code', 'response']].groupby(['region_code', 'response']).count().reset_index()\n",
    "plt.figure(figsize=(15,12))\n",
    "sns.scatterplot(x='region_code', y='id', hue='response', data=aux0)"
   ]
  },
  {
   "cell_type": "markdown",
   "id": "be482cd6",
   "metadata": {
    "hidden": true
   },
   "source": [
    "É possivel observar nesse gráfico que apenas um grupo tem mais de 8000 pessoas que não está interessada, porém os demais estão mais perto um do outro."
   ]
  },
  {
   "cell_type": "code",
   "execution_count": 32,
   "id": "dffdbab5",
   "metadata": {
    "ExecuteTime": {
     "end_time": "2022-10-25T12:35:24.744237Z",
     "start_time": "2022-10-25T12:35:24.684396Z"
    },
    "hidden": true
   },
   "outputs": [
    {
     "data": {
      "text/html": [
       "<div>\n",
       "<style scoped>\n",
       "    .dataframe tbody tr th:only-of-type {\n",
       "        vertical-align: middle;\n",
       "    }\n",
       "\n",
       "    .dataframe tbody tr th {\n",
       "        vertical-align: top;\n",
       "    }\n",
       "\n",
       "    .dataframe thead th {\n",
       "        text-align: right;\n",
       "    }\n",
       "</style>\n",
       "<table border=\"1\" class=\"dataframe\">\n",
       "  <thead>\n",
       "    <tr style=\"text-align: right;\">\n",
       "      <th>response</th>\n",
       "      <th>0</th>\n",
       "      <th>1</th>\n",
       "    </tr>\n",
       "    <tr>\n",
       "      <th>previously_insured</th>\n",
       "      <th></th>\n",
       "      <th></th>\n",
       "    </tr>\n",
       "  </thead>\n",
       "  <tbody>\n",
       "    <tr>\n",
       "      <th>0</th>\n",
       "      <td>0.774546</td>\n",
       "      <td>0.225454</td>\n",
       "    </tr>\n",
       "    <tr>\n",
       "      <th>1</th>\n",
       "      <td>0.999095</td>\n",
       "      <td>0.000905</td>\n",
       "    </tr>\n",
       "  </tbody>\n",
       "</table>\n",
       "</div>"
      ],
      "text/plain": [
       "response                   0         1\n",
       "previously_insured                    \n",
       "0                   0.774546  0.225454\n",
       "1                   0.999095  0.000905"
      ]
     },
     "execution_count": 32,
     "metadata": {},
     "output_type": "execute_result"
    }
   ],
   "source": [
    "# previously insured\n",
    "\n",
    "pd.crosstab(df4['previously_insured'], df4['response']).apply(lambda x: x/x.sum(), axis=1)"
   ]
  },
  {
   "cell_type": "markdown",
   "id": "cb597da9",
   "metadata": {
    "ExecuteTime": {
     "end_time": "2022-07-26T13:41:56.222180Z",
     "start_time": "2022-07-26T13:41:56.160768Z"
    },
    "hidden": true
   },
   "source": [
    "É possivel perceber que das pessoas que tem seguro, menos de 1% teria interesse no seguro pro carro"
   ]
  },
  {
   "cell_type": "code",
   "execution_count": 33,
   "id": "4b418705",
   "metadata": {
    "ExecuteTime": {
     "end_time": "2022-10-25T12:35:24.932313Z",
     "start_time": "2022-10-25T12:35:24.747228Z"
    },
    "hidden": true
   },
   "outputs": [
    {
     "data": {
      "text/html": [
       "<div>\n",
       "<style scoped>\n",
       "    .dataframe tbody tr th:only-of-type {\n",
       "        vertical-align: middle;\n",
       "    }\n",
       "\n",
       "    .dataframe tbody tr th {\n",
       "        vertical-align: top;\n",
       "    }\n",
       "\n",
       "    .dataframe thead th {\n",
       "        text-align: right;\n",
       "    }\n",
       "</style>\n",
       "<table border=\"1\" class=\"dataframe\">\n",
       "  <thead>\n",
       "    <tr style=\"text-align: right;\">\n",
       "      <th></th>\n",
       "      <th>vehicle_age</th>\n",
       "      <th>response</th>\n",
       "      <th>0</th>\n",
       "    </tr>\n",
       "  </thead>\n",
       "  <tbody>\n",
       "    <tr>\n",
       "      <th>0</th>\n",
       "      <td>between_1_2_year</td>\n",
       "      <td>0</td>\n",
       "      <td>0.434285</td>\n",
       "    </tr>\n",
       "    <tr>\n",
       "      <th>1</th>\n",
       "      <td>below_1_year</td>\n",
       "      <td>0</td>\n",
       "      <td>0.413488</td>\n",
       "    </tr>\n",
       "    <tr>\n",
       "      <th>2</th>\n",
       "      <td>between_1_2_year</td>\n",
       "      <td>1</td>\n",
       "      <td>0.091328</td>\n",
       "    </tr>\n",
       "    <tr>\n",
       "      <th>3</th>\n",
       "      <td>over_2_years</td>\n",
       "      <td>0</td>\n",
       "      <td>0.029663</td>\n",
       "    </tr>\n",
       "    <tr>\n",
       "      <th>4</th>\n",
       "      <td>below_1_year</td>\n",
       "      <td>1</td>\n",
       "      <td>0.018897</td>\n",
       "    </tr>\n",
       "    <tr>\n",
       "      <th>5</th>\n",
       "      <td>over_2_years</td>\n",
       "      <td>1</td>\n",
       "      <td>0.012338</td>\n",
       "    </tr>\n",
       "  </tbody>\n",
       "</table>\n",
       "</div>"
      ],
      "text/plain": [
       "        vehicle_age  response         0\n",
       "0  between_1_2_year         0  0.434285\n",
       "1      below_1_year         0  0.413488\n",
       "2  between_1_2_year         1  0.091328\n",
       "3      over_2_years         0  0.029663\n",
       "4      below_1_year         1  0.018897\n",
       "5      over_2_years         1  0.012338"
      ]
     },
     "execution_count": 33,
     "metadata": {},
     "output_type": "execute_result"
    }
   ],
   "source": [
    "# vehicle age\n",
    "df4[['vehicle_age', 'response']].value_counts(normalize=True).reset_index()"
   ]
  },
  {
   "cell_type": "markdown",
   "id": "bc45a724",
   "metadata": {
    "hidden": true
   },
   "source": [
    "Pessoas que tem carro mais novos não gostariam de tem um novo seguro\n",
    "\n",
    "Para carros novos e seminovos há uma grande diferença entre quem tem interesse e quem não tem;\n",
    "\n",
    "Para que tem carros mais antigos, a discrepancia não é tão grande"
   ]
  },
  {
   "cell_type": "code",
   "execution_count": 34,
   "id": "a01e56e6",
   "metadata": {
    "ExecuteTime": {
     "end_time": "2022-10-25T12:35:25.473531Z",
     "start_time": "2022-10-25T12:35:24.935310Z"
    },
    "hidden": true
   },
   "outputs": [
    {
     "data": {
      "text/html": [
       "<div>\n",
       "<style scoped>\n",
       "    .dataframe tbody tr th:only-of-type {\n",
       "        vertical-align: middle;\n",
       "    }\n",
       "\n",
       "    .dataframe tbody tr th {\n",
       "        vertical-align: top;\n",
       "    }\n",
       "\n",
       "    .dataframe thead th {\n",
       "        text-align: right;\n",
       "    }\n",
       "</style>\n",
       "<table border=\"1\" class=\"dataframe\">\n",
       "  <thead>\n",
       "    <tr style=\"text-align: right;\">\n",
       "      <th></th>\n",
       "      <th>0</th>\n",
       "      <th>1</th>\n",
       "      <th>2</th>\n",
       "      <th>3</th>\n",
       "      <th>4</th>\n",
       "      <th>5</th>\n",
       "      <th>6</th>\n",
       "      <th>7</th>\n",
       "      <th>8</th>\n",
       "      <th>9</th>\n",
       "      <th>10</th>\n",
       "      <th>11</th>\n",
       "      <th>12</th>\n",
       "      <th>13</th>\n",
       "      <th>14</th>\n",
       "    </tr>\n",
       "  </thead>\n",
       "  <tbody>\n",
       "    <tr>\n",
       "      <th>policy_sales_channel</th>\n",
       "      <td>123.0</td>\n",
       "      <td>43.0</td>\n",
       "      <td>27.000000</td>\n",
       "      <td>28.000000</td>\n",
       "      <td>36.000000</td>\n",
       "      <td>155.000000</td>\n",
       "      <td>163.000000</td>\n",
       "      <td>3.000000</td>\n",
       "      <td>121.000000</td>\n",
       "      <td>101.000000</td>\n",
       "      <td>87.000000</td>\n",
       "      <td>80.000000</td>\n",
       "      <td>81.000000</td>\n",
       "      <td>158.00000</td>\n",
       "      <td>90.000000</td>\n",
       "    </tr>\n",
       "    <tr>\n",
       "      <th>response</th>\n",
       "      <td>1.0</td>\n",
       "      <td>1.0</td>\n",
       "      <td>0.333333</td>\n",
       "      <td>0.333333</td>\n",
       "      <td>0.326923</td>\n",
       "      <td>0.320097</td>\n",
       "      <td>0.304183</td>\n",
       "      <td>0.304015</td>\n",
       "      <td>0.296875</td>\n",
       "      <td>0.285714</td>\n",
       "      <td>0.285714</td>\n",
       "      <td>0.285714</td>\n",
       "      <td>0.285714</td>\n",
       "      <td>0.27439</td>\n",
       "      <td>0.269231</td>\n",
       "    </tr>\n",
       "  </tbody>\n",
       "</table>\n",
       "</div>"
      ],
      "text/plain": [
       "                         0     1          2          3          4   \\\n",
       "policy_sales_channel  123.0  43.0  27.000000  28.000000  36.000000   \n",
       "response                1.0   1.0   0.333333   0.333333   0.326923   \n",
       "\n",
       "                              5           6         7           8   \\\n",
       "policy_sales_channel  155.000000  163.000000  3.000000  121.000000   \n",
       "response                0.320097    0.304183  0.304015    0.296875   \n",
       "\n",
       "                              9          10         11         12         13  \\\n",
       "policy_sales_channel  101.000000  87.000000  80.000000  81.000000  158.00000   \n",
       "response                0.285714   0.285714   0.285714   0.285714    0.27439   \n",
       "\n",
       "                             14  \n",
       "policy_sales_channel  90.000000  \n",
       "response               0.269231  "
      ]
     },
     "execution_count": 34,
     "metadata": {},
     "output_type": "execute_result"
    },
    {
     "data": {
      "image/png": "[encoded data removed]",
      "text/plain": [
       "<Figure size 1296x1080 with 1 Axes>"
      ]
     },
     "metadata": {
      "needs_background": "light"
     },
     "output_type": "display_data"
    }
   ],
   "source": [
    "#Policy sales channel\n",
    "aux = df2[['policy_sales_channel', 'response']].groupby('policy_sales_channel').mean().sort_values(by = 'response', ascending = False).reset_index() \n",
    "plt.figure(figsize=(18,15))\n",
    "sns.barplot(x = 'policy_sales_channel', y = 'response', data = aux.head(30), order = aux['policy_sales_channel'].head(30))\n",
    "sns.despine(offset = 10, trim = True);\n",
    "aux.head(15).T"
   ]
  },
  {
   "cell_type": "code",
   "execution_count": 35,
   "id": "3bce9d25",
   "metadata": {
    "ExecuteTime": {
     "end_time": "2022-10-25T12:35:25.534341Z",
     "start_time": "2022-10-25T12:35:25.475586Z"
    },
    "hidden": true
   },
   "outputs": [
    {
     "name": "stdout",
     "output_type": "stream",
     "text": [
      "vintage of interested     (mean): 154.11224577178334\n",
      "vintage of not interested (mean): 154.38024336197176\n"
     ]
    }
   ],
   "source": [
    "aux1 = df2[df2['response'] == 1]\n",
    "aux2 = df2[df2['response'] == 0]\n",
    "\n",
    "x = aux1['vintage'].mean()\n",
    "y = aux2['vintage'].mean()\n",
    "\n",
    "print('vintage of interested     (mean):', x)\n",
    "print('vintage of not interested (mean):', y)\n"
   ]
  },
  {
   "cell_type": "markdown",
   "id": "9df85c89",
   "metadata": {
    "hidden": true
   },
   "source": [
    "## 4.3 Hypothesis Validation"
   ]
  },
  {
   "cell_type": "markdown",
   "id": "0af0e22c",
   "metadata": {
    "hidden": true
   },
   "source": [
    "**H1 - Mulheres tem mais interesse em comprar seguro de veículos que homens.**\n",
    "\n",
    "**False** De acordo com os dados disponíveis neste dataset, os homens são os mais interessados em contratar um seguro\n"
   ]
  },
  {
   "cell_type": "code",
   "execution_count": 36,
   "id": "59aa08d5",
   "metadata": {
    "ExecuteTime": {
     "end_time": "2022-10-25T12:35:26.130828Z",
     "start_time": "2022-10-25T12:35:25.536173Z"
    },
    "hidden": true
   },
   "outputs": [
    {
     "data": {
      "image/png": "[encoded data removed]",
      "text/plain": [
       "<Figure size 864x720 with 1 Axes>"
      ]
     },
     "metadata": {
      "needs_background": "light"
     },
     "output_type": "display_data"
    }
   ],
   "source": [
    "\n",
    "aux=df4[df4['response']==1]\n",
    "plt.figure(figsize=(12,10))\n",
    "aux=aux[['gender']].groupby('gender').size().reset_index().rename(columns={0:'qtd'})\n",
    "ax=sns.barplot(data=aux,x='gender',y='qtd')\n",
    "total=sum(aux['qtd'])\n",
    "graphic_percentage(ax,total)"
   ]
  },
  {
   "cell_type": "markdown",
   "id": "1b23b95c",
   "metadata": {
    "hidden": true
   },
   "source": [
    "**H2 - Clientes com carros novos/seminovos (menor que 2 anos), tem mais interesse em seguro de veículos.**\n",
    "\n",
    "**Verdadeira** - Cliente com carros seminovos e novos correspondem a aproximadamente 90% dos interessados em adquirir um seguro de veículo"
   ]
  },
  {
   "cell_type": "code",
   "execution_count": 37,
   "id": "ccf7a371",
   "metadata": {
    "ExecuteTime": {
     "end_time": "2022-10-25T12:35:26.303859Z",
     "start_time": "2022-10-25T12:35:26.134818Z"
    },
    "hidden": true
   },
   "outputs": [
    {
     "data": {
      "image/png": "[encoded data removed]",
      "text/plain": [
       "<Figure size 864x720 with 1 Axes>"
      ]
     },
     "metadata": {
      "needs_background": "light"
     },
     "output_type": "display_data"
    }
   ],
   "source": [
    "aux=df4[df4['response']==1]\n",
    "aux=aux[['vehicle_age']].groupby('vehicle_age').size().reset_index().rename(columns={0:'qtd'})\n",
    "plt.figure(figsize=(12,10))\n",
    "ax=sns.barplot(data=aux,x='vehicle_age',y='qtd');\n",
    "total=sum(aux['qtd'])\n",
    "graphic_percentage(ax,total)"
   ]
  },
  {
   "cell_type": "markdown",
   "id": "7d6f861c",
   "metadata": {
    "ExecuteTime": {
     "end_time": "2022-09-06T18:58:41.429829Z",
     "start_time": "2022-09-06T18:58:41.259238Z"
    },
    "hidden": true
   },
   "source": [
    "**H3 - Clientes sem carteira de motorista não tem interesse algum em seguro de veículos.**\n",
    "\n",
    "**Falsa** - Uma pequena parcela de pessoas (0.01%), embora não tenham carteira de motorista estão interessados no seguro de veículos"
   ]
  },
  {
   "cell_type": "code",
   "execution_count": 38,
   "id": "05f45701",
   "metadata": {
    "ExecuteTime": {
     "end_time": "2022-10-25T12:35:26.510706Z",
     "start_time": "2022-10-25T12:35:26.306127Z"
    },
    "hidden": true
   },
   "outputs": [
    {
     "data": {
      "image/png": "[encoded data removed]",
      "text/plain": [
       "<Figure size 864x720 with 1 Axes>"
      ]
     },
     "metadata": {
      "needs_background": "light"
     },
     "output_type": "display_data"
    }
   ],
   "source": [
    "aux=df4[['driving_license','response']].groupby(['driving_license','response']).size().reset_index().rename(columns={0:'qtd'})\n",
    "plt.figure(figsize=(12,10))\n",
    "ax=sns.barplot(data=aux,x='driving_license',y='qtd',hue='response');\n",
    "total=sum(aux['qtd'])\n",
    "graphic_percentage(ax,total)"
   ]
  },
  {
   "cell_type": "markdown",
   "id": "45bacced",
   "metadata": {
    "hidden": true
   },
   "source": [
    "**H4 - Clientes que ja sofreram algum acidente tem mais interesse em adquirir seguro de veículos.**\n",
    "\n",
    "**Verdadeira** - 98% dos clientes interessados no seguro ja sofreram algum tipo de acidentes."
   ]
  },
  {
   "cell_type": "code",
   "execution_count": 39,
   "id": "b9c4c4c9",
   "metadata": {
    "ExecuteTime": {
     "end_time": "2022-10-25T12:35:26.797675Z",
     "start_time": "2022-10-25T12:35:26.513513Z"
    },
    "hidden": true
   },
   "outputs": [
    {
     "data": {
      "image/png": "[encoded data removed]",
      "text/plain": [
       "<Figure size 864x720 with 1 Axes>"
      ]
     },
     "metadata": {
      "needs_background": "light"
     },
     "output_type": "display_data"
    }
   ],
   "source": [
    "aux=df4[['vehicle_damage','response']].groupby(['vehicle_damage','response']).size().reset_index().rename(columns={0:'qtd'})\n",
    "plt.figure(figsize=(12,10))\n",
    "ax = sns.barplot(data=aux,x='vehicle_damage',y='qtd',hue='response');\n",
    "total=sum(aux['qtd'])\n",
    "graphic_percentage(ax,total)"
   ]
  },
  {
   "cell_type": "markdown",
   "id": "b5a8890a",
   "metadata": {
    "hidden": true
   },
   "source": [
    "**H5 - Homens tem mais eventos de dano a veículos, do que mulheres.**\n",
    "\n",
    "**Verdadeira** - Homens representam 58,35% dos eventos de dano à veículos, enquanto as mulheres representam 41,65% dos eventos."
   ]
  },
  {
   "cell_type": "code",
   "execution_count": 40,
   "id": "b7f8be1c",
   "metadata": {
    "ExecuteTime": {
     "end_time": "2022-10-25T12:35:26.877495Z",
     "start_time": "2022-10-25T12:35:26.799668Z"
    },
    "hidden": true
   },
   "outputs": [
    {
     "data": {
      "text/html": [
       "<div>\n",
       "<style scoped>\n",
       "    .dataframe tbody tr th:only-of-type {\n",
       "        vertical-align: middle;\n",
       "    }\n",
       "\n",
       "    .dataframe tbody tr th {\n",
       "        vertical-align: top;\n",
       "    }\n",
       "\n",
       "    .dataframe thead th {\n",
       "        text-align: right;\n",
       "    }\n",
       "</style>\n",
       "<table border=\"1\" class=\"dataframe\">\n",
       "  <thead>\n",
       "    <tr style=\"text-align: right;\">\n",
       "      <th>vehicle_damage</th>\n",
       "      <th>0</th>\n",
       "      <th>1</th>\n",
       "    </tr>\n",
       "    <tr>\n",
       "      <th>gender</th>\n",
       "      <th></th>\n",
       "      <th></th>\n",
       "    </tr>\n",
       "  </thead>\n",
       "  <tbody>\n",
       "    <tr>\n",
       "      <th>Female</th>\n",
       "      <td>95355</td>\n",
       "      <td>79665</td>\n",
       "    </tr>\n",
       "    <tr>\n",
       "      <th>Male</th>\n",
       "      <td>93341</td>\n",
       "      <td>112748</td>\n",
       "    </tr>\n",
       "  </tbody>\n",
       "</table>\n",
       "</div>"
      ],
      "text/plain": [
       "vehicle_damage      0       1\n",
       "gender                       \n",
       "Female          95355   79665\n",
       "Male            93341  112748"
      ]
     },
     "execution_count": 40,
     "metadata": {},
     "output_type": "execute_result"
    }
   ],
   "source": [
    "pd.crosstab( df4['gender'], df4['vehicle_damage'] )"
   ]
  },
  {
   "cell_type": "code",
   "execution_count": 41,
   "id": "dad5bba8",
   "metadata": {
    "ExecuteTime": {
     "end_time": "2022-10-25T12:35:27.206509Z",
     "start_time": "2022-10-25T12:35:26.879455Z"
    },
    "hidden": true
   },
   "outputs": [
    {
     "data": {
      "image/png": "[encoded data removed]",
      "text/plain": [
       "<Figure size 864x720 with 1 Axes>"
      ]
     },
     "metadata": {
      "needs_background": "light"
     },
     "output_type": "display_data"
    }
   ],
   "source": [
    "aux=df4[['vehicle_damage','gender']].groupby(['vehicle_damage','gender']).size().reset_index().rename(columns={0:'qtd'})\n",
    "plt.figure(figsize=(12,10))\n",
    "ax=sns.barplot(data=aux,x='gender',y='qtd',hue='vehicle_damage');\n",
    "total=sum(aux['qtd'])\n",
    "graphic_percentage(ax,total)"
   ]
  },
  {
   "cell_type": "markdown",
   "id": "b59d5aa8",
   "metadata": {},
   "source": [
    "# 5.0 Data Preparation"
   ]
  },
  {
   "cell_type": "code",
   "execution_count": 42,
   "id": "9dee934d",
   "metadata": {
    "ExecuteTime": {
     "end_time": "2022-10-25T12:37:29.341682Z",
     "start_time": "2022-10-25T12:37:29.310764Z"
    }
   },
   "outputs": [],
   "source": [
    "df5= df4.copy()"
   ]
  },
  {
   "cell_type": "markdown",
   "id": "ab60621d",
   "metadata": {
    "ExecuteTime": {
     "end_time": "2022-10-21T12:29:05.334804Z",
     "start_time": "2022-10-21T12:29:05.326826Z"
    }
   },
   "source": [
    "### Split dataframe into training and validation dataset"
   ]
  },
  {
   "cell_type": "code",
   "execution_count": 43,
   "id": "0f772218",
   "metadata": {
    "ExecuteTime": {
     "end_time": "2022-10-25T12:37:31.436686Z",
     "start_time": "2022-10-25T12:37:31.275274Z"
    }
   },
   "outputs": [],
   "source": [
    "X = df4.drop( 'response', axis=1 )\n",
    "y = df4['response'].copy() \n",
    "\n",
    "x_train, x_validation, y_train, y_validation = ms.train_test_split( X, y, test_size=0.20 )\n",
    "\n",
    "df5 = pd.concat( [x_train, y_train], axis=1 )"
   ]
  },
  {
   "cell_type": "markdown",
   "id": "5301b16d",
   "metadata": {},
   "source": [
    "## 5.1 Standardization"
   ]
  },
  {
   "cell_type": "code",
   "execution_count": 44,
   "id": "13927b18",
   "metadata": {
    "ExecuteTime": {
     "end_time": "2022-10-25T12:37:33.051441Z",
     "start_time": "2022-10-25T12:37:32.995586Z"
    }
   },
   "outputs": [],
   "source": [
    "ss = pp.StandardScaler()\n",
    "\n",
    "# annual_premium\n",
    "df5['annual_premium'] = ss.fit_transform( df5[['annual_premium']].values )\n",
    "#pickle.dump( ss, open( '../pa004_health_insurance/features/annual_premium_scaler.pkl', 'wb' ) )"
   ]
  },
  {
   "cell_type": "markdown",
   "id": "d799d991",
   "metadata": {},
   "source": [
    "## 5.2 Rescaling"
   ]
  },
  {
   "cell_type": "code",
   "execution_count": 45,
   "id": "6beecd9e",
   "metadata": {
    "ExecuteTime": {
     "end_time": "2022-10-25T12:37:34.417933Z",
     "start_time": "2022-10-25T12:37:34.348153Z"
    }
   },
   "outputs": [],
   "source": [
    "mms_age = pp.MinMaxScaler()\n",
    "mms_vintage = pp.MinMaxScaler()\n",
    "\n",
    "# Age\n",
    "df5['age'] = mms_age.fit_transform( df5[['age']].values )\n",
    "#pickle.dump( mms_age, open( '../pa004_health_insurance/features/age_scaler.pkl', 'wb' ) )\n",
    "\n",
    "# vintage\n",
    "df5['vintage'] = mms_vintage.fit_transform( df5[['vintage']].values )\n",
    "#pickle.dump( mms_vintage, open( '../pa004_health_insurance/features/vintage_scaler.pkl', 'wb' ) )\n",
    "\n"
   ]
  },
  {
   "cell_type": "markdown",
   "id": "f5f59902",
   "metadata": {},
   "source": [
    "## 5.3 Encoder"
   ]
  },
  {
   "cell_type": "code",
   "execution_count": 46,
   "id": "f5ae58a1",
   "metadata": {
    "ExecuteTime": {
     "end_time": "2022-10-25T12:37:36.059724Z",
     "start_time": "2022-10-25T12:37:35.887288Z"
    }
   },
   "outputs": [],
   "source": [
    "# gender - One Hot Encoding / Target Encoding\n",
    "target_encode_gender = df5.groupby( 'gender' )['response'].mean()\n",
    "df5.loc[:, 'gender'] = df5['gender'].map( target_encode_gender )\n",
    "#pickle.dump( target_encode_gender, open( '../pa004_health_insurance/features/target_encode_gender_scaler.pkl', 'wb' ) )\n",
    "\n",
    "# region_code - Target Encoding / Frequency Encoding\n",
    "target_encode_region_code = df5.groupby( 'region_code' )['response'].mean()\n",
    "df5.loc[:, 'region_code'] = df5['region_code'].map( target_encode_region_code )\n",
    "#pickle.dump(target_encode_region_code, open( '../pa004_health_insurance/features/target_encode_region_scaler.pkl', 'wb' ) )\n",
    "\n",
    "# vehicle_age - One Hot Encoding / Frequency Encoding\n",
    "df5 = pd.get_dummies( df5, prefix='vehicle_age', columns=['vehicle_age'] )\n",
    "\n",
    "# policy_sales_channel - Target Encoding / Frequency Encoding\n",
    "target_encode_policy_sales_channel = df5.groupby( 'policy_sales_channel' ).size() / len( df5 ) \n",
    "df5.loc[:, 'policy_sales_channel'] = df5['policy_sales_channel'].map( target_encode_policy_sales_channel )\n",
    "#pickle.dump(target_encode_policy_sales_channel, open( '../pa004_health_insurance/features/target_encode_policy_sales_channel_scaler.pkl', 'wb' ) )"
   ]
  },
  {
   "cell_type": "markdown",
   "id": "9b655793",
   "metadata": {},
   "source": [
    "## 5.2 Validation Preparation"
   ]
  },
  {
   "cell_type": "code",
   "execution_count": 47,
   "id": "1849eda6",
   "metadata": {
    "ExecuteTime": {
     "end_time": "2022-10-25T12:37:38.820176Z",
     "start_time": "2022-10-25T12:37:38.703118Z"
    }
   },
   "outputs": [],
   "source": [
    " # gender\n",
    "x_validation.loc[:, 'gender'] =  x_validation.loc[:, 'gender'].map( target_encode_gender )\n",
    "\n",
    "# age\n",
    "x_validation.loc[:, 'age'] = mms_age.transform( x_validation[['age']].values )\n",
    "\n",
    "# region_code\n",
    "x_validation.loc[:, 'region_code'] = x_validation.loc[:, 'region_code'].map( target_encode_region_code )\n",
    "\n",
    "# vehicle_age\n",
    "x_validation = pd.get_dummies( x_validation, prefix='vehicle_age', columns=['vehicle_age'] )\n",
    "\n",
    "# annual_premium\n",
    "x_validation.loc[:, 'annual_premium'] = ss.transform( x_validation[['annual_premium']].values )\n",
    "\n",
    "# policy_sales_channel\n",
    "x_validation.loc[:, 'policy_sales_channel'] = x_validation['policy_sales_channel'].map( target_encode_policy_sales_channel )\n",
    "\n",
    "# vintage\n",
    "x_validation.loc[:, 'vintage'] = mms_vintage.transform( x_validation[['vintage']].values )\n",
    "\n",
    "# fillna\n",
    "x_validation = x_validation.fillna( 0 )"
   ]
  },
  {
   "cell_type": "markdown",
   "id": "c62058fe",
   "metadata": {},
   "source": [
    "# 6.0 Feature Selection"
   ]
  },
  {
   "cell_type": "markdown",
   "id": "5b501d77",
   "metadata": {},
   "source": [
    "Esta etapa server para determinar qual é a melhor combinação de variáveis a ser utilizada.\n",
    "\n"
   ]
  },
  {
   "cell_type": "markdown",
   "id": "69e0ca75",
   "metadata": {},
   "source": [
    "## 6.1 Feature importance"
   ]
  },
  {
   "cell_type": "markdown",
   "id": "618523e0",
   "metadata": {},
   "source": [
    "### 6.1.1 Extra Trees Classifier\n",
    "\n",
    "O Extremely Randomized Trees Classifier (Extra Trees Classifier) é um tipo de técnica de aprendizagem de conjunto que agrega os resultados de várias árvores de decisão descorrelacionadas coletadas em uma “floresta” para produzir seu resultado de classificação. Em conceito, é muito semelhante a um Classificador Random Forest e só difere na forma de construção das árvores de decisão na floresta.\n",
    "\n",
    "Cada árvore de decisão na floresta de árvores extras é construída a partir da amostra de treinamento original. Então, em cada nó de teste, cada árvore é fornecida com uma amostra aleatória de k recursos do conjunto de recursos a partir do qual cada árvore de decisão deve selecionar o melhor recurso para dividir os dados com base em alguns critérios matemáticos (normalmente o índice de Gini). Essa amostra aleatória de recursos leva à criação de várias árvores de decisão não correlacionadas.\n",
    "\n",
    "Para realizar a seleção de características usando a estrutura de floresta acima, durante a construção da floresta, para cada característica, a redução total normalizada nos critérios matemáticos usados ​​na decisão da característica de divisão (Índice de Gini se o Índice de Gini for usado na construção de floresta) é computado. Esse valor é chamado de Importância Gini do recurso. Para realizar a seleção de recursos, cada recurso é ordenado em ordem decrescente de acordo com a Importância Gini de cada recurso e o usuário seleciona os k principais recursos de acordo com sua escolha."
   ]
  },
  {
   "cell_type": "code",
   "execution_count": null,
   "id": "f346fb63",
   "metadata": {
    "ExecuteTime": {
     "end_time": "2022-10-24T14:28:49.372041Z",
     "start_time": "2022-10-24T14:28:49.297422Z"
    }
   },
   "outputs": [],
   "source": [
    "# model definition\n",
    "#et_model = en.ExtraTreesClassifier( n_estimators=250, random_state=0, n_jobs=-1 )\n",
    "#\n",
    "# data preparation\n",
    "#x_train_n = df5.drop( ['id', 'response'], axis=1 )\n",
    "#y_train_n = y_train.values\n",
    "#et_model.fit( x_train_n, y_train_n )"
   ]
  },
  {
   "cell_type": "code",
   "execution_count": null,
   "id": "012d6430",
   "metadata": {
    "ExecuteTime": {
     "end_time": "2022-10-24T14:28:49.511059Z",
     "start_time": "2022-10-24T14:28:49.375073Z"
    }
   },
   "outputs": [],
   "source": [
    "#importances = et_model.feature_importances_\n",
    "#indices = np.argsort( importances )[::-1]\n",
    "#\n",
    "#print( 'feature ranking')\n",
    "#df = pd.DataFrame()\n",
    "#\n",
    "#for i, j in zip( x_train_n, et_model.feature_importances_ ):\n",
    "#    aux = pd.DataFrame( {'feature': i, 'importance': j}, index=[0] )\n",
    "#    df = pd.concat( [df, aux], axis=0 )\n",
    "#    \n",
    "#print( df.sort_values( 'importance', ascending=False ) )\n",
    "#\n",
    "## Plot the impurity-based feature importances of the forest\n",
    "#plt.figure()\n",
    "#plt.title(\"Feature importances\")\n",
    "#plt.bar(range(x_train_n.shape[1]), importances[indices], color=\"c\", align=\"center\")\n",
    "#plt.xticks(range(x_train_n.shape[1]), indices)\n",
    "#plt.xlim([-1, x_train_n.shape[1]])\n",
    "#plt.show()"
   ]
  },
  {
   "cell_type": "markdown",
   "id": "86079bbc",
   "metadata": {},
   "source": [
    "# 7.0 Machine Learning Modelling"
   ]
  },
  {
   "cell_type": "code",
   "execution_count": 48,
   "id": "33dd71e7",
   "metadata": {
    "ExecuteTime": {
     "end_time": "2022-10-25T12:37:47.393231Z",
     "start_time": "2022-10-25T12:37:47.382264Z"
    }
   },
   "outputs": [],
   "source": [
    "cols_selected = [ 'annual_premium', 'vintage', 'age', 'region_code', 'vehicle_damage', 'previously_insured',\n",
    "                 'policy_sales_channel']"
   ]
  },
  {
   "cell_type": "code",
   "execution_count": 50,
   "id": "40c219ad",
   "metadata": {
    "ExecuteTime": {
     "end_time": "2022-10-25T12:38:08.469396Z",
     "start_time": "2022-10-25T12:38:08.431465Z"
    }
   },
   "outputs": [],
   "source": [
    "x_train = df5[cols_selected]\n",
    "x_val = x_validation[cols_selected]\n",
    "y_val = y_validation.copy()"
   ]
  },
  {
   "cell_type": "markdown",
   "id": "aa9359f2",
   "metadata": {},
   "source": [
    "## 7.1 Logistic regression"
   ]
  },
  {
   "cell_type": "code",
   "execution_count": 51,
   "id": "0359d76b",
   "metadata": {
    "ExecuteTime": {
     "end_time": "2022-10-25T12:39:09.844726Z",
     "start_time": "2022-10-25T12:39:09.839735Z"
    },
    "cell_style": "center"
   },
   "outputs": [],
   "source": [
    "#model definition\n",
    "#lr_model = lm.LogisticRegression( random_state=42 ) \n",
    "# #model training\n",
    "#lr_model.fit( x_train, y_train )\n",
    "# #model prediction\n",
    "#yhat_lr = lr_model.predict_proba( x_val )"
   ]
  },
  {
   "cell_type": "code",
   "execution_count": 52,
   "id": "b2d673ba",
   "metadata": {
    "ExecuteTime": {
     "end_time": "2022-10-25T12:39:10.541760Z",
     "start_time": "2022-10-25T12:39:10.529786Z"
    },
    "code_folding": []
   },
   "outputs": [],
   "source": [
    "# save the lr_model trained model\n",
    "#with open( 'model/lr_model.pkl', 'wb') as file:\n",
    "#    pickle.dump( lr_model, file )"
   ]
  },
  {
   "cell_type": "code",
   "execution_count": 53,
   "id": "171fd19f",
   "metadata": {
    "ExecuteTime": {
     "end_time": "2022-10-25T12:39:11.151265Z",
     "start_time": "2022-10-25T12:39:11.079036Z"
    }
   },
   "outputs": [],
   "source": [
    "# Load the Model back from file\n",
    "with open('model/lr_model.pkl', 'rb') as file:  \n",
    "    lr_model = pickle.load( file )"
   ]
  },
  {
   "cell_type": "code",
   "execution_count": 54,
   "id": "9fef01e1",
   "metadata": {
    "ExecuteTime": {
     "end_time": "2022-10-25T12:39:12.022679Z",
     "start_time": "2022-10-25T12:39:12.013677Z"
    }
   },
   "outputs": [],
   "source": [
    "# model prediction - probability\n",
    "#yhat_lr = lr_model.predict_proba( x_val )"
   ]
  },
  {
   "cell_type": "code",
   "execution_count": 55,
   "id": "e54b2407",
   "metadata": {
    "ExecuteTime": {
     "end_time": "2022-10-25T12:39:12.678186Z",
     "start_time": "2022-10-25T12:39:12.667183Z"
    }
   },
   "outputs": [],
   "source": [
    "# model size\n",
    "#lr_model_size_mb = round( os.path.getsize('model/lr_model.pkl') / (1024**2), 2)"
   ]
  },
  {
   "cell_type": "markdown",
   "id": "3d87c8cf",
   "metadata": {},
   "source": [
    "## 7.2 KNN"
   ]
  },
  {
   "cell_type": "code",
   "execution_count": 56,
   "id": "7d7ac1b7",
   "metadata": {
    "ExecuteTime": {
     "end_time": "2022-10-25T12:39:13.254492Z",
     "start_time": "2022-10-25T12:39:13.244212Z"
    },
    "cell_style": "center"
   },
   "outputs": [],
   "source": [
    " # model definition\n",
    "#knn_model = nh.KNeighborsClassifier( n_neighbors=7 )\n",
    "# #model training\n",
    "#knn_model.fit( x_train, y_train )\n",
    "## model predicion - Poder de Generalização do modelo\n",
    "#yhat_knn = knn_model.predict_proba( x_val )\n"
   ]
  },
  {
   "cell_type": "code",
   "execution_count": 57,
   "id": "3cb568f1",
   "metadata": {
    "ExecuteTime": {
     "end_time": "2022-10-25T12:39:13.796280Z",
     "start_time": "2022-10-25T12:39:13.784312Z"
    }
   },
   "outputs": [],
   "source": [
    "# save the knn_model trained model\n",
    "#with open( 'model/knn_model.pkl', 'wb') as file:\n",
    "#    pickle.dump( knn_model, file )"
   ]
  },
  {
   "cell_type": "code",
   "execution_count": 58,
   "id": "458af011",
   "metadata": {
    "ExecuteTime": {
     "end_time": "2022-10-25T12:39:14.793098Z",
     "start_time": "2022-10-25T12:39:14.341294Z"
    }
   },
   "outputs": [],
   "source": [
    "# Load the Model back from file\n",
    "with open('model/knn_model.pkl', 'rb') as file:  \n",
    "    knn = pickle.load( file )"
   ]
  },
  {
   "cell_type": "code",
   "execution_count": 59,
   "id": "97bd2088",
   "metadata": {
    "ExecuteTime": {
     "end_time": "2022-10-25T12:39:15.321047Z",
     "start_time": "2022-10-25T12:39:15.309805Z"
    }
   },
   "outputs": [],
   "source": [
    "# model prediction - probability\n",
    "#yhat_knn = knn_model.predict_proba( x_val )"
   ]
  },
  {
   "cell_type": "code",
   "execution_count": 60,
   "id": "45bb2463",
   "metadata": {
    "ExecuteTime": {
     "end_time": "2022-10-25T12:39:15.880669Z",
     "start_time": "2022-10-25T12:39:15.865706Z"
    },
    "code_folding": []
   },
   "outputs": [],
   "source": [
    "# model size\n",
    "#knn_size_mb = round( os.path.getsize('model/knn_model.pkl') / (1024**2), 2)\n",
    "#knn_size_mb"
   ]
  },
  {
   "cell_type": "markdown",
   "id": "25af3a90",
   "metadata": {},
   "source": [
    "## 7.3 Random Forest"
   ]
  },
  {
   "cell_type": "code",
   "execution_count": 61,
   "id": "c1d6cbf6",
   "metadata": {
    "ExecuteTime": {
     "end_time": "2022-10-25T12:39:26.546668Z",
     "start_time": "2022-10-25T12:39:26.535732Z"
    },
    "cell_style": "center",
    "code_folding": []
   },
   "outputs": [],
   "source": [
    "# model definition\n",
    "#rf = en.RandomForestClassifier(n_estimators=100, n_jobs=-1, random_state=42)\n",
    "#Model fit\n",
    "#rf.fit(x_train, y_train)\n",
    " #Model predict\n",
    "#yhat_rf = rf.predict_proba(x_val)"
   ]
  },
  {
   "cell_type": "code",
   "execution_count": 62,
   "id": "3342cf20",
   "metadata": {
    "ExecuteTime": {
     "end_time": "2022-10-25T12:39:27.205032Z",
     "start_time": "2022-10-25T12:39:27.195062Z"
    }
   },
   "outputs": [],
   "source": [
    "# save the rf_model trained model\n",
    "#with open( 'model/rf.pkl', 'wb') as file:\n",
    "#    pickle.dump( rf, file )"
   ]
  },
  {
   "cell_type": "code",
   "execution_count": 63,
   "id": "12a99d1e",
   "metadata": {
    "ExecuteTime": {
     "end_time": "2022-10-25T12:39:33.458682Z",
     "start_time": "2022-10-25T12:39:27.897292Z"
    }
   },
   "outputs": [],
   "source": [
    "# Load the Model back from file\n",
    "with open('model/rf.pkl', 'rb') as file:  \n",
    "    knn = pickle.load( file )"
   ]
  },
  {
   "cell_type": "markdown",
   "id": "6dea8764",
   "metadata": {},
   "source": [
    "## 7.4 XGBoost"
   ]
  },
  {
   "cell_type": "code",
   "execution_count": 64,
   "id": "e3a7818b",
   "metadata": {
    "ExecuteTime": {
     "end_time": "2022-10-25T12:39:34.077292Z",
     "start_time": "2022-10-25T12:39:34.065324Z"
    }
   },
   "outputs": [],
   "source": [
    " # model definition\n",
    "#xgb = XGBClassifier( use_label_encoder = False, n_jobs = -1, seed = 10 )\n",
    "# # model training\n",
    "#xgb.fit(x_train, y_train);\n",
    "\n",
    "## model prediction - probability\n",
    "#yhat_xgb = xgb.predict_proba( x_val )"
   ]
  },
  {
   "cell_type": "code",
   "execution_count": 65,
   "id": "1b02864c",
   "metadata": {
    "ExecuteTime": {
     "end_time": "2022-10-25T12:39:34.622751Z",
     "start_time": "2022-10-25T12:39:34.610779Z"
    }
   },
   "outputs": [],
   "source": [
    " #save the xgb_model trained model\n",
    "#with open( 'model/xgb.pkl', 'wb') as file:\n",
    "#    pickle.dump( xgb, file )"
   ]
  },
  {
   "cell_type": "code",
   "execution_count": 66,
   "id": "fb14e123",
   "metadata": {
    "ExecuteTime": {
     "end_time": "2022-10-25T12:39:35.487169Z",
     "start_time": "2022-10-25T12:39:35.278621Z"
    }
   },
   "outputs": [],
   "source": [
    "# Load the Model back from file\n",
    "with open('model/xgb.pkl', 'rb') as file:  \n",
    "    knn = pickle.load( file )"
   ]
  },
  {
   "cell_type": "markdown",
   "id": "3feadc7c",
   "metadata": {},
   "source": [
    "## 7.5 LightGBM"
   ]
  },
  {
   "cell_type": "code",
   "execution_count": 67,
   "id": "2f291912",
   "metadata": {
    "ExecuteTime": {
     "end_time": "2022-10-25T12:39:40.378600Z",
     "start_time": "2022-10-25T12:39:40.373614Z"
    }
   },
   "outputs": [],
   "source": [
    "# model definition\n",
    "#lgbm = LGBMClassifier( n_jobs = -1, random_state = 10 )\n",
    " #model training\n",
    "#lgbm.fit(x_train, y_train)\n",
    "# model prediction - probability\n",
    "#yhat_lgbm = lgbm.predict_proba( x_val )"
   ]
  },
  {
   "cell_type": "code",
   "execution_count": 68,
   "id": "7ba3e5c4",
   "metadata": {
    "ExecuteTime": {
     "end_time": "2022-10-25T12:39:40.458419Z",
     "start_time": "2022-10-25T12:39:40.381593Z"
    }
   },
   "outputs": [],
   "source": [
    "# save the xgb_model trained model\n",
    "#with open( 'model/lgbm.pkl', 'wb') as file:\n",
    "   # pickle.dump( lgbm, file )"
   ]
  },
  {
   "cell_type": "code",
   "execution_count": 69,
   "id": "f2e2fec7",
   "metadata": {
    "ExecuteTime": {
     "end_time": "2022-10-25T12:39:40.691217Z",
     "start_time": "2022-10-25T12:39:40.463372Z"
    }
   },
   "outputs": [],
   "source": [
    "# Load the Model back from file\n",
    "with open('model/lgbm.pkl', 'rb') as file:  \n",
    "    knn = pickle.load( file )"
   ]
  },
  {
   "cell_type": "markdown",
   "id": "d9891783",
   "metadata": {},
   "source": [
    "# 8.0 Model Performance"
   ]
  },
  {
   "cell_type": "code",
   "execution_count": 70,
   "id": "7df0fe8f",
   "metadata": {
    "ExecuteTime": {
     "end_time": "2022-10-25T12:39:42.129668Z",
     "start_time": "2022-10-25T12:39:40.695206Z"
    },
    "code_folding": []
   },
   "outputs": [
    {
     "ename": "NameError",
     "evalue": "name 'yhat_lr' is not defined",
     "output_type": "error",
     "traceback": [
      "\u001b[1;31m---------------------------------------------------------------------------\u001b[0m",
      "\u001b[1;31mNameError\u001b[0m                                 Traceback (most recent call last)",
      "Input \u001b[1;32mIn [70]\u001b[0m, in \u001b[0;36m<cell line: 16>\u001b[1;34m()\u001b[0m\n\u001b[0;32m     12\u001b[0m ax5 \u001b[38;5;241m=\u001b[39m fig\u001b[38;5;241m.\u001b[39madd_subplot( specs[ \u001b[38;5;241m1\u001b[39m, \u001b[38;5;241m1\u001b[39m ] )\n\u001b[0;32m     15\u001b[0m \u001b[38;5;66;03m# plot accumulative gain\u001b[39;00m\n\u001b[1;32m---> 16\u001b[0m skplt\u001b[38;5;241m.\u001b[39mmetrics\u001b[38;5;241m.\u001b[39mplot_cumulative_gain( y_validation,                   \u001b[43myhat_lr\u001b[49m, \n\u001b[0;32m     17\u001b[0m                                     title \u001b[38;5;241m=\u001b[39m \u001b[38;5;124m'\u001b[39m\u001b[38;5;124mLOGISTIC REGRESSION\u001b[39m\u001b[38;5;124m'\u001b[39m, ax \u001b[38;5;241m=\u001b[39m ax1    )\n\u001b[0;32m     19\u001b[0m \u001b[38;5;66;03m# plot accumulative gain\u001b[39;00m\n\u001b[0;32m     20\u001b[0m skplt\u001b[38;5;241m.\u001b[39mmetrics\u001b[38;5;241m.\u001b[39mplot_cumulative_gain( y_validation,                  yhat_knn,\n\u001b[0;32m     21\u001b[0m                                     title \u001b[38;5;241m=\u001b[39m \u001b[38;5;124m'\u001b[39m\u001b[38;5;124mKNN\u001b[39m\u001b[38;5;124m'\u001b[39m,                 ax \u001b[38;5;241m=\u001b[39m ax2    )\n",
      "\u001b[1;31mNameError\u001b[0m: name 'yhat_lr' is not defined"
     ]
    },
    {
     "data": {
      "image/png": "[encoded data removed]",
      "text/plain": [
       "<Figure size 1440x1440 with 5 Axes>"
      ]
     },
     "metadata": {
      "needs_background": "light"
     },
     "output_type": "display_data"
    }
   ],
   "source": [
    "# create a figure object\n",
    "fig = plt.figure( figsize = (20, 20) , constrained_layout = True )\n",
    "\n",
    "# create a grid for plotting\n",
    "specs = gridspec.GridSpec( ncols = 2, nrows = 3, figure = fig) \n",
    "\n",
    "# create axs\n",
    "ax1 = fig.add_subplot( specs[ 0, 0 ] )\n",
    "ax2 = fig.add_subplot( specs[ 1, 0 ] )\n",
    "ax3 = fig.add_subplot( specs[ 2, 0 ] )\n",
    "ax4 = fig.add_subplot( specs[ 0, 1 ] )\n",
    "ax5 = fig.add_subplot( specs[ 1, 1 ] )\n",
    "\n",
    "\n",
    "# plot accumulative gain\n",
    "skplt.metrics.plot_cumulative_gain( y_validation,                   yhat_lr, \n",
    "                                    title = 'LOGISTIC REGRESSION', ax = ax1    )\n",
    "\n",
    "# plot accumulative gain\n",
    "skplt.metrics.plot_cumulative_gain( y_validation,                  yhat_knn,\n",
    "                                    title = 'KNN',                 ax = ax2    )\n",
    "\n",
    "# plot accumulative gain\n",
    "skplt.metrics.plot_cumulative_gain( y_validation,                  yhat_rf,\n",
    "                                    title = 'RANDOM FOREST',       ax = ax3    )\n",
    "\n",
    "# plot accumulative gain\n",
    "skplt.metrics.plot_cumulative_gain( y_validation,                  yhat_lgbm, \n",
    "                                    title = 'LIGHTGBM',            ax = ax4    )\n",
    "\n",
    "\n",
    "# plot accumulative gain\n",
    "skplt.metrics.plot_cumulative_gain( y_validation,                  yhat_xgb,\n",
    "                                    title = 'XGBOOST',             ax = ax5    )\n",
    "\n"
   ]
  },
  {
   "cell_type": "code",
   "execution_count": 71,
   "id": "6ea4db67",
   "metadata": {
    "ExecuteTime": {
     "end_time": "2022-10-25T12:42:37.088920Z",
     "start_time": "2022-10-25T12:42:37.050023Z"
    }
   },
   "outputs": [
    {
     "ename": "NameError",
     "evalue": "name 'yhat_lr' is not defined",
     "output_type": "error",
     "traceback": [
      "\u001b[1;31m---------------------------------------------------------------------------\u001b[0m",
      "\u001b[1;31mNameError\u001b[0m                                 Traceback (most recent call last)",
      "Input \u001b[1;32mIn [71]\u001b[0m, in \u001b[0;36m<cell line: 2>\u001b[1;34m()\u001b[0m\n\u001b[0;32m      1\u001b[0m \u001b[38;5;66;03m# list predictions made\u001b[39;00m\n\u001b[1;32m----> 2\u001b[0m yhat_predictions \u001b[38;5;241m=\u001b[39m { \u001b[38;5;124m'\u001b[39m\u001b[38;5;124mLogistic Regression\u001b[39m\u001b[38;5;124m'\u001b[39m: [\u001b[43myhat_lr\u001b[49m] , \n\u001b[0;32m      3\u001b[0m                      \u001b[38;5;124m'\u001b[39m\u001b[38;5;124mKNN\u001b[39m\u001b[38;5;124m'\u001b[39m: [yhat_knn], \n\u001b[0;32m      4\u001b[0m                      \u001b[38;5;124m'\u001b[39m\u001b[38;5;124mRandom Forest\u001b[39m\u001b[38;5;124m'\u001b[39m: [yhat_rf],\n\u001b[0;32m      5\u001b[0m                      \u001b[38;5;124m'\u001b[39m\u001b[38;5;124mXGBoost\u001b[39m\u001b[38;5;124m'\u001b[39m: [yhat_xgb],\n\u001b[0;32m      6\u001b[0m                      \u001b[38;5;124m'\u001b[39m\u001b[38;5;124mLightGBM\u001b[39m\u001b[38;5;124m'\u001b[39m: [yhat_lgbm],\n\u001b[0;32m      7\u001b[0m                      }\n\u001b[0;32m      9\u001b[0m \u001b[38;5;66;03m# create dataframe to compare models\u001b[39;00m\n\u001b[0;32m     10\u001b[0m performance_comparison \u001b[38;5;241m=\u001b[39m pd\u001b[38;5;241m.\u001b[39mDataFrame()\n",
      "\u001b[1;31mNameError\u001b[0m: name 'yhat_lr' is not defined"
     ]
    }
   ],
   "source": [
    "# list predictions made\n",
    "yhat_predictions = { 'Logistic Regression': [yhat_lr] , \n",
    "                     'KNN': [yhat_knn], \n",
    "                     'Random Forest': [yhat_rf],\n",
    "                     'XGBoost': [yhat_xgb],\n",
    "                     'LightGBM': [yhat_lgbm],\n",
    "                     }\n",
    "\n",
    "# create dataframe to compare models\n",
    "performance_comparison = pd.DataFrame()\n",
    "\n",
    "for model_name, model in yhat_predictions.items():\n",
    "    # create model key\n",
    "    row = {'Model': model_name}\n",
    "    \n",
    "    # create model \n",
    "   # row['Size in MB'] = model[1]\n",
    "        \n",
    "    # order validation according to propensity score\n",
    "    df_propensity_ordered = propensity_score_ordering( x_validation, y_validation, model[0])\n",
    "\n",
    "    # compute precision at k\n",
    "    row['recall_at_20000'] = recall_at_k(  df_propensity_ordered, k = 20000 )\n",
    "    row['recall_at_40000'] = recall_at_k(  df_propensity_ordered, k = 40000 )\n",
    "        \n",
    "    # compute precision at k\n",
    "    row['precision_at_20000'] = precision_at_k( df_propensity_ordered, k = 20000 )\n",
    "    row['precision_at_40000'] = precision_at_k( df_propensity_ordered, k = 40000 )\n",
    "            \n",
    "    # append to comparison dataframe    \n",
    "    performance_comparison = performance_comparison.append(row, ignore_index = True)\n",
    "\n",
    "performance_comparison.sort_values( ['recall_at_20000', 'recall_at_40000'], \n",
    "                                    ascending = False )    "
   ]
  },
  {
   "cell_type": "markdown",
   "id": "6053c581",
   "metadata": {
    "ExecuteTime": {
     "end_time": "2022-10-24T14:12:19.409491Z",
     "start_time": "2022-10-24T14:12:19.396910Z"
    }
   },
   "source": [
    "## 8.1 Model Selection"
   ]
  },
  {
   "cell_type": "markdown",
   "id": "0ae9c2f0",
   "metadata": {},
   "source": [
    "Due to the above explanation, the chosen model is LightGBM."
   ]
  },
  {
   "cell_type": "markdown",
   "id": "c0901254",
   "metadata": {
    "ExecuteTime": {
     "end_time": "2022-10-24T14:15:11.296162Z",
     "start_time": "2022-10-24T14:15:11.287154Z"
    }
   },
   "source": [
    "# 9.0 HYPERPARAMETER FINE TUNING"
   ]
  },
  {
   "cell_type": "code",
   "execution_count": 72,
   "id": "7a0d7809",
   "metadata": {
    "ExecuteTime": {
     "end_time": "2022-10-25T12:42:41.629559Z",
     "start_time": "2022-10-25T12:42:41.620583Z"
    }
   },
   "outputs": [],
   "source": [
    "# params_search = { \n",
    "#     'n_estimators': [30, 100, 300],\n",
    "#     'learning_rate': [0.03, 0.1, 0.3],\n",
    "#     'num_leaves': [10, 30, 100],\n",
    "#     }\n",
    "\n",
    "# # create best params dataframe\n",
    "# df_params_performance = pd.DataFrame()\n",
    "\n",
    "# # number of iterations\n",
    "# total_iterations = np.prod( [len(value) for value in params_search.values()] )\n",
    "\n",
    "# # initialize iterations\n",
    "# iteration = 1\n",
    "\n",
    "# # perform RANDOM SEARCH to find best params\n",
    "# for n_est in params_search['n_estimators']:\n",
    "#     for l_rate in params_search['learning_rate']:\n",
    "#         for n_lvs in params_search['num_leaves']:\n",
    "#             # display iteration number\n",
    "#             print( f'At {iteration} / {total_iterations} iteration.')\n",
    "            \n",
    "#             # define choosen params\n",
    "#             chosen_params = { 'n_estimators':  n_est,\n",
    "#                               'learning_rate': l_rate,\n",
    "#                               'num_leaves':    n_lvs\n",
    "#                             }                            \n",
    "                \n",
    "#             # define model with random params\n",
    "#             lgbm = LGBMClassifier( n_estimators  = n_est,\n",
    "#                                    learning_rate = l_rate,\n",
    "#                                    num_leaves    = n_lvs,\n",
    "#                                    n_jobs        = -1,\n",
    "#                                    random_state  = 10\n",
    "#                                  )  \n",
    "\n",
    "#             # train model\n",
    "#             lgbm.fit( X_train_model, y_train_model )\n",
    "\n",
    "#             # model prediction\n",
    "#             yhat_lgbm = lgbm.predict_proba( X_validation_model )\n",
    "\n",
    "#             # order validation according to propensity score\n",
    "#             df_propensity_ordered = propensity_score_ordering( X_validation, y_validation, yhat_lgbm )\n",
    "\n",
    "#             # compute precision at k\n",
    "#             precision_at_20000 = precision_at_k( df_propensity_ordered, k = 20000 )\n",
    "#             precision_at_40000 = precision_at_k( df_propensity_ordered, k = 40000 )\n",
    "\n",
    "#             # compute precision at k\n",
    "#             recall_at_20000 = recall_at_k( df_propensity_ordered, k = 20000 )\n",
    "#             recall_at_40000 = recall_at_k( df_propensity_ordered, k = 40000 )\n",
    "\n",
    "#             # create row for dataframe appending\n",
    "#             row = chosen_params\n",
    "#             row['recall_at_20000']    = recall_at_20000\n",
    "#             row['recall_at_40000']    = recall_at_40000\n",
    "#             row['precision_at_40000'] = precision_at_40000,\n",
    "#             row['precision_at_20000'] = precision_at_20000,\n",
    "\n",
    "#             # append row to dataframe\n",
    "#             df_params_performance = df_params_performance.append(row, ignore_index = True)\n",
    "\n",
    "#             # increase iteration number\n",
    "#             iteration += 1\n",
    "\n",
    "            \n",
    "# df_params_performance.sort_values( ['recall_at_20000', 'recall_at_40000', \n",
    "#                                     'precision_at_20000', 'precision_at_40000'], ascending = False )\n"
   ]
  },
  {
   "cell_type": "code",
   "execution_count": 73,
   "id": "b783df23",
   "metadata": {
    "ExecuteTime": {
     "end_time": "2022-10-25T12:42:43.166744Z",
     "start_time": "2022-10-25T12:42:42.234580Z"
    }
   },
   "outputs": [],
   "source": [
    "# best params according to random search\n",
    "best_params = { 'n_estimators': 30,\n",
    "                'learning_rate': 0.1,\n",
    "                'num_leaves': 10,\n",
    "              }"
   ]
  },
  {
   "cell_type": "markdown",
   "id": "91373038",
   "metadata": {},
   "source": [
    "## 9.1 PERFORMANCE EVALUATION AND INTERPRETATION"
   ]
  },
  {
   "cell_type": "markdown",
   "id": "42598164",
   "metadata": {},
   "source": [
    "### 9.1.1 Learning Performance"
   ]
  },
  {
   "cell_type": "code",
   "execution_count": 74,
   "id": "f7ef0f0a",
   "metadata": {
    "ExecuteTime": {
     "end_time": "2022-10-25T12:42:44.279056Z",
     "start_time": "2022-10-25T12:42:43.701601Z"
    }
   },
   "outputs": [
    {
     "data": {
      "text/html": [
       "<style>#sk-container-id-1 {color: black;background-color: white;}#sk-container-id-1 pre{padding: 0;}#sk-container-id-1 div.sk-toggleable {background-color: white;}#sk-container-id-1 label.sk-toggleable__label {cursor: pointer;display: block;width: 100%;margin-bottom: 0;padding: 0.3em;box-sizing: border-box;text-align: center;}#sk-container-id-1 label.sk-toggleable__label-arrow:before {content: \"▸\";float: left;margin-right: 0.25em;color: #696969;}#sk-container-id-1 label.sk-toggleable__label-arrow:hover:before {color: black;}#sk-container-id-1 div.sk-estimator:hover label.sk-toggleable__label-arrow:before {color: black;}#sk-container-id-1 div.sk-toggleable__content {max-height: 0;max-width: 0;overflow: hidden;text-align: left;background-color: #f0f8ff;}#sk-container-id-1 div.sk-toggleable__content pre {margin: 0.2em;color: black;border-radius: 0.25em;background-color: #f0f8ff;}#sk-container-id-1 input.sk-toggleable__control:checked~div.sk-toggleable__content {max-height: 200px;max-width: 100%;overflow: auto;}#sk-container-id-1 input.sk-toggleable__control:checked~label.sk-toggleable__label-arrow:before {content: \"▾\";}#sk-container-id-1 div.sk-estimator input.sk-toggleable__control:checked~label.sk-toggleable__label {background-color: #d4ebff;}#sk-container-id-1 div.sk-label input.sk-toggleable__control:checked~label.sk-toggleable__label {background-color: #d4ebff;}#sk-container-id-1 input.sk-hidden--visually {border: 0;clip: rect(1px 1px 1px 1px);clip: rect(1px, 1px, 1px, 1px);height: 1px;margin: -1px;overflow: hidden;padding: 0;position: absolute;width: 1px;}#sk-container-id-1 div.sk-estimator {font-family: monospace;background-color: #f0f8ff;border: 1px dotted black;border-radius: 0.25em;box-sizing: border-box;margin-bottom: 0.5em;}#sk-container-id-1 div.sk-estimator:hover {background-color: #d4ebff;}#sk-container-id-1 div.sk-parallel-item::after {content: \"\";width: 100%;border-bottom: 1px solid gray;flex-grow: 1;}#sk-container-id-1 div.sk-label:hover label.sk-toggleable__label {background-color: #d4ebff;}#sk-container-id-1 div.sk-serial::before {content: \"\";position: absolute;border-left: 1px solid gray;box-sizing: border-box;top: 0;bottom: 0;left: 50%;z-index: 0;}#sk-container-id-1 div.sk-serial {display: flex;flex-direction: column;align-items: center;background-color: white;padding-right: 0.2em;padding-left: 0.2em;position: relative;}#sk-container-id-1 div.sk-item {position: relative;z-index: 1;}#sk-container-id-1 div.sk-parallel {display: flex;align-items: stretch;justify-content: center;background-color: white;position: relative;}#sk-container-id-1 div.sk-item::before, #sk-container-id-1 div.sk-parallel-item::before {content: \"\";position: absolute;border-left: 1px solid gray;box-sizing: border-box;top: 0;bottom: 0;left: 50%;z-index: -1;}#sk-container-id-1 div.sk-parallel-item {display: flex;flex-direction: column;z-index: 1;position: relative;background-color: white;}#sk-container-id-1 div.sk-parallel-item:first-child::after {align-self: flex-end;width: 50%;}#sk-container-id-1 div.sk-parallel-item:last-child::after {align-self: flex-start;width: 50%;}#sk-container-id-1 div.sk-parallel-item:only-child::after {width: 0;}#sk-container-id-1 div.sk-dashed-wrapped {border: 1px dashed gray;margin: 0 0.4em 0.5em 0.4em;box-sizing: border-box;padding-bottom: 0.4em;background-color: white;}#sk-container-id-1 div.sk-label label {font-family: monospace;font-weight: bold;display: inline-block;line-height: 1.2em;}#sk-container-id-1 div.sk-label-container {text-align: center;}#sk-container-id-1 div.sk-container {/* jupyter's `normalize.less` sets `[hidden] { display: none; }` but bootstrap.min.css set `[hidden] { display: none !important; }` so we also need the `!important` here to be able to override the default hidden behavior on the sphinx rendered scikit-learn.org. See: https://github.com/scikit-learn/scikit-learn/issues/21755 */display: inline-block !important;position: relative;}#sk-container-id-1 div.sk-text-repr-fallback {display: none;}</style><div id=\"sk-container-id-1\" class=\"sk-top-container\"><div class=\"sk-text-repr-fallback\"><pre>LGBMClassifier(n_estimators=30, num_leaves=10, random_state=10)</pre><b>In a Jupyter environment, please rerun this cell to show the HTML representation or trust the notebook. <br />On GitHub, the HTML representation is unable to render, please try loading this page with nbviewer.org.</b></div><div class=\"sk-container\" hidden><div class=\"sk-item\"><div class=\"sk-estimator sk-toggleable\"><input class=\"sk-toggleable__control sk-hidden--visually\" id=\"sk-estimator-id-1\" type=\"checkbox\" checked><label for=\"sk-estimator-id-1\" class=\"sk-toggleable__label sk-toggleable__label-arrow\">LGBMClassifier</label><div class=\"sk-toggleable__content\"><pre>LGBMClassifier(n_estimators=30, num_leaves=10, random_state=10)</pre></div></div></div></div></div>"
      ],
      "text/plain": [
       "LGBMClassifier(n_estimators=30, num_leaves=10, random_state=10)"
      ]
     },
     "execution_count": 74,
     "metadata": {},
     "output_type": "execute_result"
    }
   ],
   "source": [
    "# define final model with optimal hyperparameters\n",
    "lgbm_tuned = LGBMClassifier( n_estimators = 30, learning_rate = 0.1,\n",
    "                             num_leaves = 10,  n_jobs = -1, random_state = 10 )                     \n",
    "\n",
    "# model training\n",
    "lgbm_tuned.fit( x_train, y_train )"
   ]
  },
  {
   "cell_type": "code",
   "execution_count": 75,
   "id": "a49fe6bb",
   "metadata": {
    "ExecuteTime": {
     "end_time": "2022-10-25T12:42:47.445510Z",
     "start_time": "2022-10-25T12:42:47.381682Z"
    }
   },
   "outputs": [],
   "source": [
    "# model prediction - probability\n",
    "yhat_lgbm_tuned = lgbm_tuned.predict_proba( x_val)"
   ]
  },
  {
   "cell_type": "code",
   "execution_count": 76,
   "id": "0bcb6440",
   "metadata": {
    "ExecuteTime": {
     "end_time": "2022-10-25T12:42:48.856403Z",
     "start_time": "2022-10-25T12:42:48.344109Z"
    }
   },
   "outputs": [
    {
     "name": "stdout",
     "output_type": "stream",
     "text": [
      "Recall    at 20.000: 0.7078220040550635\n",
      "Recall    at 40.000: 0.9943442535481806\n",
      "Precision at 20.000: 0.33163341832908355\n",
      "Precision at 40.000: 0.23294417639559012\n"
     ]
    },
    {
     "data": {
      "image/png": "[encoded data removed]",
      "text/plain": [
       "<Figure size 864x576 with 2 Axes>"
      ]
     },
     "metadata": {
      "needs_background": "light"
     },
     "output_type": "display_data"
    }
   ],
   "source": [
    "# order validation according to propensity score\n",
    "df_propensity_ordered = propensity_score_ordering( x_validation, y_validation, yhat_lgbm_tuned)\n",
    "\n",
    "# compute recall at k\n",
    "recall_at_20000 = recall_at_k( df_propensity_ordered, k = 20000 )\n",
    "print( f'Recall    at 20.000: {recall_at_20000}' )    \n",
    "recall_at_40000 = recall_at_k( df_propensity_ordered, k = 40000 )\n",
    "print( f'Recall    at 40.000: {recall_at_40000}' )    \n",
    "\n",
    "# compute precision at k\n",
    "precision_at_20000 = precision_at_k( df_propensity_ordered, k = 20000 )\n",
    "print( f'Precision at 20.000: {precision_at_20000}' )\n",
    "precision_at_40000 = precision_at_k( df_propensity_ordered, k = 40000 )\n",
    "print( f'Precision at 40.000: {precision_at_40000}' )\n",
    "\n",
    "# prepare figure\n",
    "fig = plt.figure( figsize = (12,8), tight_layout = True )\n",
    "\n",
    "# create subplots\n",
    "ax1 = fig.add_subplot( 211 )\n",
    "ax2 = fig.add_subplot( 212 )\n",
    "\n",
    "# plot accumulative gain\n",
    "skplt.metrics.plot_cumulative_gain( y_validation, yhat_lgbm_tuned, \n",
    "                                    title = 'LightGBM - Learning Performance', ax = ax1 )\n",
    "\n",
    "# plot lift curve\n",
    "skplt.metrics.plot_lift_curve( y_validation, yhat_lgbm_tuned, \n",
    "                               title = 'LightGBM - Learning Performance', ax = ax2 );"
   ]
  },
  {
   "cell_type": "code",
   "execution_count": 77,
   "id": "0aa0a51b",
   "metadata": {
    "ExecuteTime": {
     "end_time": "2022-10-25T12:42:52.441016Z",
     "start_time": "2022-10-25T12:42:52.433037Z"
    }
   },
   "outputs": [
    {
     "data": {
      "text/plain": [
       "(76222, 13)"
      ]
     },
     "execution_count": 77,
     "metadata": {},
     "output_type": "execute_result"
    }
   ],
   "source": [
    "x_validation.shape"
   ]
  },
  {
   "cell_type": "code",
   "execution_count": 78,
   "id": "ca42c9e0",
   "metadata": {
    "ExecuteTime": {
     "end_time": "2022-10-25T12:42:53.115480Z",
     "start_time": "2022-10-25T12:42:53.103539Z"
    }
   },
   "outputs": [
    {
     "data": {
      "text/plain": [
       "(304887, 7)"
      ]
     },
     "execution_count": 78,
     "metadata": {},
     "output_type": "execute_result"
    }
   ],
   "source": [
    "x_train.shape"
   ]
  },
  {
   "cell_type": "code",
   "execution_count": null,
   "id": "184cc666",
   "metadata": {
    "ExecuteTime": {
     "end_time": "2022-10-25T12:39:42.172555Z",
     "start_time": "2022-10-25T12:39:42.172555Z"
    }
   },
   "outputs": [],
   "source": [
    " # Save the lgbm trained model\n",
    "#with open( 'model/model_health_insurance.pkl', 'wb' ) as file:\n",
    "        #pickle.dump( lgbm_tuned, file )"
   ]
  },
  {
   "cell_type": "code",
   "execution_count": 80,
   "id": "bec53181",
   "metadata": {
    "ExecuteTime": {
     "end_time": "2022-10-25T12:43:03.240108Z",
     "start_time": "2022-10-25T12:43:03.210188Z"
    }
   },
   "outputs": [],
   "source": [
    "# Load the Model back from file\n",
    "with open( 'model/model_health_insurance.pkl', 'rb') as file:  \n",
    "    model_health_insurance = pickle.load( file )"
   ]
  },
  {
   "cell_type": "markdown",
   "id": "5e439f0d",
   "metadata": {},
   "source": [
    "### Generalization Performance"
   ]
  },
  {
   "cell_type": "code",
   "execution_count": 81,
   "id": "a35f3677",
   "metadata": {
    "ExecuteTime": {
     "end_time": "2022-10-25T12:43:06.429793Z",
     "start_time": "2022-10-25T12:43:06.248312Z"
    }
   },
   "outputs": [],
   "source": [
    "# model prediction\n",
    "yhat_model_health_insurance = model_health_insurance.predict_proba( x_val )"
   ]
  },
  {
   "cell_type": "markdown",
   "id": "c56efd9e",
   "metadata": {},
   "source": [
    "# 9.0 Deploy to production"
   ]
  },
  {
   "cell_type": "code",
   "execution_count": 82,
   "id": "5e5f1b58",
   "metadata": {
    "ExecuteTime": {
     "end_time": "2022-10-25T12:43:40.899017Z",
     "start_time": "2022-10-25T12:43:40.884056Z"
    }
   },
   "outputs": [],
   "source": [
    "#saved trained model\n",
    "#pickle.dump(lgbm, open( 'C:/Users/PC/SejaUmDataScientist/DS_Classificacao/pa004_health_insurance/model/model_health_insurance.pkl', 'wb'))"
   ]
  },
  {
   "cell_type": "markdown",
   "id": "c295acaf",
   "metadata": {},
   "source": [
    "## 9.1 Health Insurance Class"
   ]
  },
  {
   "cell_type": "code",
   "execution_count": 124,
   "id": "29d2562f",
   "metadata": {
    "ExecuteTime": {
     "end_time": "2022-10-25T15:23:04.022231Z",
     "start_time": "2022-10-25T15:23:03.993308Z"
    }
   },
   "outputs": [],
   "source": [
    "import pickle\n",
    "import numpy  as np\n",
    "import numpy  as np\n",
    "import pandas as pd\n",
    "\n",
    "class HealthInsurance(object):\n",
    "    \n",
    "    def __init__(self):\n",
    "        self.home_path ='C:/Users/PC/SejaUmDataScientist/DS_Classificacao/pa004_health_insurance/'\n",
    "        self.annual_premium_scaler =            pickle.load( open( self.home_path + 'features/annual_premium_scaler.pkl', 'rb' ) )\n",
    "        self.age_scaler =                       pickle.load( open( self.home_path + 'features/age_scaler.pkl', 'rb' ) ) \n",
    "        self.target_encode_vintage_scaler =     pickle.load( open( self.home_path + 'features/target_encode_vintage_scaler.pkl', 'rb' ) ) \n",
    "        self.target_encode_gender_scaler =      pickle.load( open( self.home_path + 'features/target_encode_gender_scaler.pkl', 'rb' ) )\n",
    "        self.target_encode_region_scaler =      pickle.load( open( self.home_path + 'features/target_encode_region_scaler.pkl', 'rb' ) )\n",
    "        self.target_encode_policy_sales_channel_scaler =   pickle.load( open( self.home_path + 'features/target_encode_policy_sales_channel_scaler.pkl', 'rb' ) )\n",
    "    \n",
    "    \n",
    "    def data_cleaning(self, df1):\n",
    "        #rename columns \n",
    "        cols_old = ['id', 'Gender', 'Age', 'Driving_License', 'Region_Code',\n",
    "                'Previously_Insured', 'Vehicle_Age', 'Vehicle_Damage', 'Annual_Premium',\n",
    "                'Policy_Sales_Channel', 'Vintage']\n",
    "        \n",
    "        #Rename\n",
    "        df1.columns = cols_new\n",
    "        \n",
    "        return df1\n",
    "    \n",
    "    def feature_engeneering(self, df2):\n",
    "        # vehicle age\n",
    "        df2['vehicle_age'] =  df2['vehicle_age'].apply( lambda x: 'over_2_years' if x == '> 2 Years' else 'between_1_2_year' if x == '1-2 Year' else 'below_1_year' ) \n",
    "        \n",
    "        # vehicle_damage\n",
    "        df2['vehicle_damage'] = df2['vehicle_damage'].apply(lambda x:1 if x == 'Yes' else 0 )\n",
    "        return df2\n",
    "\n",
    "    def data_preparation(df5):               \n",
    "              \n",
    "        # annual_premium\n",
    "        df5['annual_premium'] = self.annual_premium_scaler.transform( df5[['annual_premium']].values )\n",
    "              \n",
    "        ## 5.2 Rescaling       \n",
    "            \n",
    "        # Age\n",
    "        df5['age'] = self.age_scaler.transform( df5[['age']].values )\n",
    "                \n",
    "        # vintage\n",
    "        df5['vintage'] = self.vintage_scaler.transform( df5[['vintage']].values )\n",
    "        \n",
    "        df5.loc[:, 'gender'] = df5['gender'].map( self.target_encode_gender_scaler )\n",
    "        \n",
    "        # region_code - Target Encoding / Frequency Encoding\n",
    "        df5.loc[:, 'region_code'] = df5['region_code'].map( self.target_encode_region_code_scaler )\n",
    "        \n",
    "        # vehicle_age - One Hot Encoding / Frequency Encoding\n",
    "        df5 = pd.get_dummies( df5, prefix='vehicle_age', columns=['vehicle_age'] )\n",
    "        \n",
    "        # policy_sales_channel - Target Encoding / Frequency Encoding\n",
    "        df5.loc[:, 'policy_sales_channel'] = df5['policy_sales_channel'].map( self.target_encode_policy_sales_channel_scaler )\n",
    "        \n",
    "        cols_selected = ['annual_premium', 'vintage', 'reg0ion_code', 'vehicle_damage', 'previously_insured', 'policy_sales_channel' ]\n",
    "        \n",
    "        return df5[cols_selected]\n",
    "    \n",
    "    \n",
    "      \n",
    "    def get_prediction( self, model, original_data, test_data ):\n",
    "        # model prediction\n",
    "        pred = model.predict_proba( test_data )\n",
    "\n",
    "        # join prediction into original data\n",
    "        original_data['score'] = pred[:, 1].tolist()\n",
    "        \n",
    "        return original_data.to_json( orient='records', date_format='iso' )"
   ]
  },
  {
   "cell_type": "markdown",
   "id": "3f5ce24a",
   "metadata": {},
   "source": [
    "## 9.2 API Handler"
   ]
  },
  {
   "cell_type": "code",
   "execution_count": 126,
   "id": "43d0ee00",
   "metadata": {
    "ExecuteTime": {
     "end_time": "2022-10-25T15:23:13.339935Z",
     "start_time": "2022-10-25T15:23:13.326971Z"
    }
   },
   "outputs": [],
   "source": [
    "import requests"
   ]
  },
  {
   "cell_type": "code",
   "execution_count": 127,
   "id": "a832e517",
   "metadata": {
    "ExecuteTime": {
     "end_time": "2022-10-25T15:23:13.803892Z",
     "start_time": "2022-10-25T15:23:13.795909Z"
    }
   },
   "outputs": [],
   "source": [
    "#loading Dataset\n",
    "df_test= x_validation\n",
    "df_test['response'] = y_validation"
   ]
  },
  {
   "cell_type": "code",
   "execution_count": 128,
   "id": "be4eb199",
   "metadata": {
    "ExecuteTime": {
     "end_time": "2022-10-25T15:23:14.461684Z",
     "start_time": "2022-10-25T15:23:14.438741Z"
    }
   },
   "outputs": [],
   "source": [
    "df_test = df_test.sample(10)"
   ]
  },
  {
   "cell_type": "code",
   "execution_count": 129,
   "id": "e04d5a81",
   "metadata": {
    "ExecuteTime": {
     "end_time": "2022-10-25T15:23:15.088602Z",
     "start_time": "2022-10-25T15:23:15.081587Z"
    }
   },
   "outputs": [],
   "source": [
    "data= json.dumps(df_test.to_dict(orient='records'))"
   ]
  },
  {
   "cell_type": "code",
   "execution_count": 134,
   "id": "e1587028",
   "metadata": {
    "ExecuteTime": {
     "end_time": "2022-10-25T15:48:33.775421Z",
     "start_time": "2022-10-25T15:48:33.723561Z"
    }
   },
   "outputs": [
    {
     "data": {
      "text/html": [
       "<div>\n",
       "<style scoped>\n",
       "    .dataframe tbody tr th:only-of-type {\n",
       "        vertical-align: middle;\n",
       "    }\n",
       "\n",
       "    .dataframe tbody tr th {\n",
       "        vertical-align: top;\n",
       "    }\n",
       "\n",
       "    .dataframe thead th {\n",
       "        text-align: right;\n",
       "    }\n",
       "</style>\n",
       "<table border=\"1\" class=\"dataframe\">\n",
       "  <thead>\n",
       "    <tr style=\"text-align: right;\">\n",
       "      <th></th>\n",
       "      <th>id</th>\n",
       "      <th>gender</th>\n",
       "      <th>age</th>\n",
       "      <th>driving_license</th>\n",
       "      <th>region_code</th>\n",
       "      <th>previously_insured</th>\n",
       "      <th>vehicle_damage</th>\n",
       "      <th>annual_premium</th>\n",
       "      <th>policy_sales_channel</th>\n",
       "      <th>vintage</th>\n",
       "      <th>vehicle_age_below_1_year</th>\n",
       "      <th>vehicle_age_between_1_2_year</th>\n",
       "      <th>vehicle_age_over_2_years</th>\n",
       "      <th>response</th>\n",
       "    </tr>\n",
       "  </thead>\n",
       "  <tbody>\n",
       "    <tr>\n",
       "      <th>14930</th>\n",
       "      <td>14931</td>\n",
       "      <td>0.103984</td>\n",
       "      <td>0.153846</td>\n",
       "      <td>1</td>\n",
       "      <td>0.187822</td>\n",
       "      <td>0</td>\n",
       "      <td>1</td>\n",
       "      <td>0.584036</td>\n",
       "      <td>0.194429</td>\n",
       "      <td>0.823529</td>\n",
       "      <td>0</td>\n",
       "      <td>1</td>\n",
       "      <td>0</td>\n",
       "      <td>0</td>\n",
       "    </tr>\n",
       "    <tr>\n",
       "      <th>161514</th>\n",
       "      <td>161515</td>\n",
       "      <td>0.103984</td>\n",
       "      <td>0.400000</td>\n",
       "      <td>1</td>\n",
       "      <td>0.097136</td>\n",
       "      <td>1</td>\n",
       "      <td>1</td>\n",
       "      <td>-0.006094</td>\n",
       "      <td>0.209018</td>\n",
       "      <td>0.941176</td>\n",
       "      <td>0</td>\n",
       "      <td>1</td>\n",
       "      <td>0</td>\n",
       "      <td>0</td>\n",
       "    </tr>\n",
       "    <tr>\n",
       "      <th>284035</th>\n",
       "      <td>284036</td>\n",
       "      <td>0.138185</td>\n",
       "      <td>0.076923</td>\n",
       "      <td>1</td>\n",
       "      <td>0.066667</td>\n",
       "      <td>1</td>\n",
       "      <td>0</td>\n",
       "      <td>-0.630590</td>\n",
       "      <td>0.353846</td>\n",
       "      <td>0.754325</td>\n",
       "      <td>1</td>\n",
       "      <td>0</td>\n",
       "      <td>0</td>\n",
       "      <td>0</td>\n",
       "    </tr>\n",
       "    <tr>\n",
       "      <th>97277</th>\n",
       "      <td>97278</td>\n",
       "      <td>0.138185</td>\n",
       "      <td>0.723077</td>\n",
       "      <td>1</td>\n",
       "      <td>0.069691</td>\n",
       "      <td>0</td>\n",
       "      <td>1</td>\n",
       "      <td>-0.060893</td>\n",
       "      <td>0.353846</td>\n",
       "      <td>0.591696</td>\n",
       "      <td>0</td>\n",
       "      <td>1</td>\n",
       "      <td>0</td>\n",
       "      <td>0</td>\n",
       "    </tr>\n",
       "    <tr>\n",
       "      <th>104490</th>\n",
       "      <td>104491</td>\n",
       "      <td>0.138185</td>\n",
       "      <td>0.015385</td>\n",
       "      <td>1</td>\n",
       "      <td>0.097589</td>\n",
       "      <td>1</td>\n",
       "      <td>0</td>\n",
       "      <td>0.251007</td>\n",
       "      <td>0.353846</td>\n",
       "      <td>0.332180</td>\n",
       "      <td>1</td>\n",
       "      <td>0</td>\n",
       "      <td>0</td>\n",
       "      <td>0</td>\n",
       "    </tr>\n",
       "    <tr>\n",
       "      <th>89584</th>\n",
       "      <td>89585</td>\n",
       "      <td>0.138185</td>\n",
       "      <td>0.384615</td>\n",
       "      <td>1</td>\n",
       "      <td>0.123487</td>\n",
       "      <td>1</td>\n",
       "      <td>0</td>\n",
       "      <td>-1.621726</td>\n",
       "      <td>0.209018</td>\n",
       "      <td>0.155709</td>\n",
       "      <td>0</td>\n",
       "      <td>1</td>\n",
       "      <td>0</td>\n",
       "      <td>0</td>\n",
       "    </tr>\n",
       "    <tr>\n",
       "      <th>282904</th>\n",
       "      <td>282905</td>\n",
       "      <td>0.138185</td>\n",
       "      <td>0.015385</td>\n",
       "      <td>1</td>\n",
       "      <td>0.187822</td>\n",
       "      <td>0</td>\n",
       "      <td>1</td>\n",
       "      <td>0.348472</td>\n",
       "      <td>0.015468</td>\n",
       "      <td>0.034602</td>\n",
       "      <td>0</td>\n",
       "      <td>1</td>\n",
       "      <td>0</td>\n",
       "      <td>0</td>\n",
       "    </tr>\n",
       "    <tr>\n",
       "      <th>203898</th>\n",
       "      <td>203899</td>\n",
       "      <td>0.138185</td>\n",
       "      <td>0.092308</td>\n",
       "      <td>1</td>\n",
       "      <td>0.060997</td>\n",
       "      <td>1</td>\n",
       "      <td>0</td>\n",
       "      <td>-0.342375</td>\n",
       "      <td>0.353846</td>\n",
       "      <td>0.539792</td>\n",
       "      <td>1</td>\n",
       "      <td>0</td>\n",
       "      <td>0</td>\n",
       "      <td>0</td>\n",
       "    </tr>\n",
       "    <tr>\n",
       "      <th>253234</th>\n",
       "      <td>253235</td>\n",
       "      <td>0.138185</td>\n",
       "      <td>0.153846</td>\n",
       "      <td>1</td>\n",
       "      <td>0.187822</td>\n",
       "      <td>0</td>\n",
       "      <td>1</td>\n",
       "      <td>0.668962</td>\n",
       "      <td>0.015468</td>\n",
       "      <td>0.169550</td>\n",
       "      <td>1</td>\n",
       "      <td>0</td>\n",
       "      <td>0</td>\n",
       "      <td>0</td>\n",
       "    </tr>\n",
       "    <tr>\n",
       "      <th>347528</th>\n",
       "      <td>347529</td>\n",
       "      <td>0.103984</td>\n",
       "      <td>0.707692</td>\n",
       "      <td>1</td>\n",
       "      <td>0.187822</td>\n",
       "      <td>0</td>\n",
       "      <td>1</td>\n",
       "      <td>0.090384</td>\n",
       "      <td>0.209018</td>\n",
       "      <td>0.536332</td>\n",
       "      <td>0</td>\n",
       "      <td>1</td>\n",
       "      <td>0</td>\n",
       "      <td>0</td>\n",
       "    </tr>\n",
       "  </tbody>\n",
       "</table>\n",
       "</div>"
      ],
      "text/plain": [
       "            id    gender       age  driving_license  region_code  \\\n",
       "14930    14931  0.103984  0.153846                1     0.187822   \n",
       "161514  161515  0.103984  0.400000                1     0.097136   \n",
       "284035  284036  0.138185  0.076923                1     0.066667   \n",
       "97277    97278  0.138185  0.723077                1     0.069691   \n",
       "104490  104491  0.138185  0.015385                1     0.097589   \n",
       "89584    89585  0.138185  0.384615                1     0.123487   \n",
       "282904  282905  0.138185  0.015385                1     0.187822   \n",
       "203898  203899  0.138185  0.092308                1     0.060997   \n",
       "253234  253235  0.138185  0.153846                1     0.187822   \n",
       "347528  347529  0.103984  0.707692                1     0.187822   \n",
       "\n",
       "        previously_insured  vehicle_damage  annual_premium  \\\n",
       "14930                    0               1        0.584036   \n",
       "161514                   1               1       -0.006094   \n",
       "284035                   1               0       -0.630590   \n",
       "97277                    0               1       -0.060893   \n",
       "104490                   1               0        0.251007   \n",
       "89584                    1               0       -1.621726   \n",
       "282904                   0               1        0.348472   \n",
       "203898                   1               0       -0.342375   \n",
       "253234                   0               1        0.668962   \n",
       "347528                   0               1        0.090384   \n",
       "\n",
       "        policy_sales_channel   vintage  vehicle_age_below_1_year  \\\n",
       "14930               0.194429  0.823529                         0   \n",
       "161514              0.209018  0.941176                         0   \n",
       "284035              0.353846  0.754325                         1   \n",
       "97277               0.353846  0.591696                         0   \n",
       "104490              0.353846  0.332180                         1   \n",
       "89584               0.209018  0.155709                         0   \n",
       "282904              0.015468  0.034602                         0   \n",
       "203898              0.353846  0.539792                         1   \n",
       "253234              0.015468  0.169550                         1   \n",
       "347528              0.209018  0.536332                         0   \n",
       "\n",
       "        vehicle_age_between_1_2_year  vehicle_age_over_2_years  response  \n",
       "14930                              1                         0         0  \n",
       "161514                             1                         0         0  \n",
       "284035                             0                         0         0  \n",
       "97277                              1                         0         0  \n",
       "104490                             0                         0         0  \n",
       "89584                              1                         0         0  \n",
       "282904                             1                         0         0  \n",
       "203898                             0                         0         0  \n",
       "253234                             0                         0         0  \n",
       "347528                             1                         0         0  "
      ]
     },
     "execution_count": 134,
     "metadata": {},
     "output_type": "execute_result"
    }
   ],
   "source": [
    "df_test"
   ]
  },
  {
   "cell_type": "code",
   "execution_count": 131,
   "id": "483533be",
   "metadata": {
    "ExecuteTime": {
     "end_time": "2022-10-25T15:23:29.237276Z",
     "start_time": "2022-10-25T15:23:16.453897Z"
    }
   },
   "outputs": [
    {
     "name": "stdout",
     "output_type": "stream",
     "text": [
      "Status Code 500\n"
     ]
    }
   ],
   "source": [
    "#API call\n",
    "#url='http://0.0.0.0:5000/healthinsurance/predict'\n",
    "url= 'https://health-insurance-model.herokuapp.com/predict'\n",
    "header= {'Content-type': 'application/json'}\n",
    "r= requests.post(url, data=data, headers=header)\n",
    "print('Status Code {}'.format(r.status_code))\n"
   ]
  },
  {
   "cell_type": "code",
   "execution_count": null,
   "id": "c3859feb",
   "metadata": {
    "ExecuteTime": {
     "end_time": "2022-10-25T15:23:29.464461Z",
     "start_time": "2022-10-25T15:23:29.464461Z"
    }
   },
   "outputs": [],
   "source": [
    "d1=pd.DataFrame(r.json(), columns=r.json()[0].keys())\n",
    "d1.sort_values('score', ascending=False).head()"
   ]
  },
  {
   "cell_type": "code",
   "execution_count": null,
   "id": "d1437910",
   "metadata": {},
   "outputs": [],
   "source": []
  }
 ],
 "metadata": {
  "kernelspec": {
   "display_name": "Python 3 (ipykernel)",
   "language": "python",
   "name": "python3"
  },
  "language_info": {
   "codemirror_mode": {
    "name": "ipython",
    "version": 3
   },
   "file_extension": ".py",
   "mimetype": "text/x-python",
   "name": "python",
   "nbconvert_exporter": "python",
   "pygments_lexer": "ipython3",
   "version": "3.9.12"
  },
  "varInspector": {
   "cols": {
    "lenName": 16,
    "lenType": 16,
    "lenVar": 40
   },
   "kernels_config": {
    "python": {
     "delete_cmd_postfix": "",
     "delete_cmd_prefix": "del ",
     "library": "var_list.py",
     "varRefreshCmd": "print(var_dic_list())"
    },
    "r": {
     "delete_cmd_postfix": ") ",
     "delete_cmd_prefix": "rm(",
     "library": "var_list.r",
     "varRefreshCmd": "cat(var_dic_list()) "
    }
   },
   "types_to_exclude": [
    "module",
    "function",
    "builtin_function_or_method",
    "instance",
    "_Feature"
   ],
   "window_display": false
  }
 },
 "nbformat": 4,
 "nbformat_minor": 5
}
